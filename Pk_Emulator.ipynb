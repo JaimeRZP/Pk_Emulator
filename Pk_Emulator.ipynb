{
 "cells": [
  {
   "cell_type": "markdown",
   "metadata": {},
   "source": [
    "# Pk Emulator"
   ]
  },
  {
   "cell_type": "markdown",
   "metadata": {},
   "source": [
    "## PCA+GP Method"
   ]
  },
  {
   "cell_type": "code",
   "execution_count": 3,
   "metadata": {},
   "outputs": [],
   "source": [
    "import pyccl as ccl\n",
    "import numpy as np\n",
    "import pylab as plt\n",
    "import itertools\n",
    "\n",
    "import pymaster as nmt"
   ]
  },
  {
   "cell_type": "markdown",
   "metadata": {},
   "source": [
    "First we want to set up a grid of h and Omega_m spanning across our priors "
   ]
  },
  {
   "cell_type": "code",
   "execution_count": 4,
   "metadata": {},
   "outputs": [],
   "source": [
    "w_arr  = np.linspace(0.1, 1, 10)\n",
    "h_arr  = np.linspace(0.1,  1, 10)"
   ]
  },
  {
   "cell_type": "code",
   "execution_count": 5,
   "metadata": {},
   "outputs": [],
   "source": [
    "cosmo = ccl.Cosmology(Omega_c=0.27, Omega_b=0.049, h=0.67, sigma8=0.81, n_s=0.96)"
   ]
  },
  {
   "cell_type": "code",
   "execution_count": 6,
   "metadata": {},
   "outputs": [],
   "source": [
    "nk = 100 # No. of points in k\n",
    "k_arr = np.logspace(-4.7,5,nk)"
   ]
  },
  {
   "cell_type": "code",
   "execution_count": 7,
   "metadata": {},
   "outputs": [
    {
     "ename": "KeyboardInterrupt",
     "evalue": "",
     "output_type": "error",
     "traceback": [
      "\u001b[0;31m---------------------------------------------------------------------------\u001b[0m",
      "\u001b[0;31mKeyboardInterrupt\u001b[0m                         Traceback (most recent call last)",
      "\u001b[0;32m<ipython-input-7-fdac18584d38>\u001b[0m in \u001b[0;36m<module>\u001b[0;34m\u001b[0m\n\u001b[1;32m      3\u001b[0m     \u001b[0;32mfor\u001b[0m \u001b[0mj\u001b[0m \u001b[0;32min\u001b[0m \u001b[0mrange\u001b[0m\u001b[0;34m(\u001b[0m\u001b[0mlen\u001b[0m\u001b[0;34m(\u001b[0m\u001b[0mh_arr\u001b[0m\u001b[0;34m)\u001b[0m\u001b[0;34m)\u001b[0m\u001b[0;34m:\u001b[0m\u001b[0;34m\u001b[0m\u001b[0;34m\u001b[0m\u001b[0m\n\u001b[1;32m      4\u001b[0m         \u001b[0mcosmo\u001b[0m \u001b[0;34m=\u001b[0m \u001b[0mccl\u001b[0m\u001b[0;34m.\u001b[0m\u001b[0mCosmology\u001b[0m\u001b[0;34m(\u001b[0m\u001b[0mOmega_c\u001b[0m\u001b[0;34m=\u001b[0m\u001b[0mw_arr\u001b[0m\u001b[0;34m[\u001b[0m\u001b[0mi\u001b[0m\u001b[0;34m]\u001b[0m\u001b[0;34m,\u001b[0m \u001b[0mOmega_b\u001b[0m\u001b[0;34m=\u001b[0m\u001b[0;36m0.049\u001b[0m\u001b[0;34m,\u001b[0m \u001b[0mh\u001b[0m\u001b[0;34m=\u001b[0m\u001b[0mh_arr\u001b[0m\u001b[0;34m[\u001b[0m\u001b[0mj\u001b[0m\u001b[0;34m]\u001b[0m\u001b[0;34m,\u001b[0m \u001b[0msigma8\u001b[0m\u001b[0;34m=\u001b[0m\u001b[0;36m0.81\u001b[0m\u001b[0;34m,\u001b[0m \u001b[0mn_s\u001b[0m\u001b[0;34m=\u001b[0m\u001b[0;36m0.96\u001b[0m\u001b[0;34m)\u001b[0m\u001b[0;34m\u001b[0m\u001b[0;34m\u001b[0m\u001b[0m\n\u001b[0;32m----> 5\u001b[0;31m         \u001b[0mdata\u001b[0m\u001b[0;34m.\u001b[0m\u001b[0mappend\u001b[0m\u001b[0;34m(\u001b[0m\u001b[0mccl\u001b[0m\u001b[0;34m.\u001b[0m\u001b[0mpower\u001b[0m\u001b[0;34m.\u001b[0m\u001b[0mlinear_matter_power\u001b[0m\u001b[0;34m(\u001b[0m\u001b[0mcosmo\u001b[0m\u001b[0;34m,\u001b[0m \u001b[0mk_arr\u001b[0m\u001b[0;34m,\u001b[0m \u001b[0;36m1\u001b[0m\u001b[0;34m)\u001b[0m\u001b[0;34m)\u001b[0m\u001b[0;34m\u001b[0m\u001b[0;34m\u001b[0m\u001b[0m\n\u001b[0m\u001b[1;32m      6\u001b[0m \u001b[0mdata\u001b[0m \u001b[0;34m=\u001b[0m \u001b[0mnp\u001b[0m\u001b[0;34m.\u001b[0m\u001b[0marray\u001b[0m\u001b[0;34m(\u001b[0m\u001b[0mdata\u001b[0m\u001b[0;34m)\u001b[0m\u001b[0;34m\u001b[0m\u001b[0;34m\u001b[0m\u001b[0m\n",
      "\u001b[0;32m~/anaconda3/envs/PhD/lib/python3.8/site-packages/pyccl/power.py\u001b[0m in \u001b[0;36mlinear_matter_power\u001b[0;34m(cosmo, k, a)\u001b[0m\n\u001b[1;32m     16\u001b[0m         \u001b[0mfloat\u001b[0m \u001b[0;32mor\u001b[0m \u001b[0marray_like\u001b[0m\u001b[0;34m:\u001b[0m \u001b[0mLinear\u001b[0m \u001b[0mmatter\u001b[0m \u001b[0mpower\u001b[0m \u001b[0mspectrum\u001b[0m\u001b[0;34m;\u001b[0m \u001b[0mMpc\u001b[0m\u001b[0;34m^\u001b[0m\u001b[0;36m3.\u001b[0m\u001b[0;34m\u001b[0m\u001b[0;34m\u001b[0m\u001b[0m\n\u001b[1;32m     17\u001b[0m     \"\"\"\n\u001b[0;32m---> 18\u001b[0;31m     \u001b[0mcosmo\u001b[0m\u001b[0;34m.\u001b[0m\u001b[0mcompute_linear_power\u001b[0m\u001b[0;34m(\u001b[0m\u001b[0;34m)\u001b[0m\u001b[0;34m\u001b[0m\u001b[0;34m\u001b[0m\u001b[0m\n\u001b[0m\u001b[1;32m     19\u001b[0m     return _vectorize_fn2(lib.linear_matter_power,\n\u001b[1;32m     20\u001b[0m                           lib.linear_matter_power_vec, cosmo, k, a)\n",
      "\u001b[0;32m~/anaconda3/envs/PhD/lib/python3.8/site-packages/pyccl/core.py\u001b[0m in \u001b[0;36mcompute_linear_power\u001b[0;34m(self)\u001b[0m\n\u001b[1;32m    722\u001b[0m             \u001b[0mself\u001b[0m\u001b[0;34m.\u001b[0m\u001b[0m_compute_linear_power_from_arrays\u001b[0m\u001b[0;34m(\u001b[0m\u001b[0;34m)\u001b[0m\u001b[0;34m\u001b[0m\u001b[0;34m\u001b[0m\u001b[0m\n\u001b[1;32m    723\u001b[0m         \u001b[0;32melse\u001b[0m\u001b[0;34m:\u001b[0m\u001b[0;34m\u001b[0m\u001b[0;34m\u001b[0m\u001b[0m\n\u001b[0;32m--> 724\u001b[0;31m             \u001b[0mself\u001b[0m\u001b[0;34m.\u001b[0m\u001b[0m_compute_linear_power_internal\u001b[0m\u001b[0;34m(\u001b[0m\u001b[0;34m)\u001b[0m\u001b[0;34m\u001b[0m\u001b[0;34m\u001b[0m\u001b[0m\n\u001b[0m\u001b[1;32m    725\u001b[0m \u001b[0;34m\u001b[0m\u001b[0m\n\u001b[1;32m    726\u001b[0m     \u001b[0;32mdef\u001b[0m \u001b[0m_compute_linear_power_internal\u001b[0m\u001b[0;34m(\u001b[0m\u001b[0mself\u001b[0m\u001b[0;34m)\u001b[0m\u001b[0;34m:\u001b[0m\u001b[0;34m\u001b[0m\u001b[0;34m\u001b[0m\u001b[0m\n",
      "\u001b[0;32m~/anaconda3/envs/PhD/lib/python3.8/site-packages/pyccl/core.py\u001b[0m in \u001b[0;36m_compute_linear_power_internal\u001b[0;34m(self)\u001b[0m\n\u001b[1;32m    758\u001b[0m         elif ((self._config_init_kwargs['transfer_function'] ==\n\u001b[1;32m    759\u001b[0m                 'boltzmann_camb') and not self.has_linear_power):\n\u001b[0;32m--> 760\u001b[0;31m             \u001b[0mpk_lin\u001b[0m \u001b[0;34m=\u001b[0m \u001b[0mget_camb_pk_lin\u001b[0m\u001b[0;34m(\u001b[0m\u001b[0mself\u001b[0m\u001b[0;34m)\u001b[0m\u001b[0;34m\u001b[0m\u001b[0;34m\u001b[0m\u001b[0m\n\u001b[0m\u001b[1;32m    761\u001b[0m             \u001b[0mpsp\u001b[0m \u001b[0;34m=\u001b[0m \u001b[0mpk_lin\u001b[0m\u001b[0;34m.\u001b[0m\u001b[0mpsp\u001b[0m\u001b[0;34m\u001b[0m\u001b[0;34m\u001b[0m\u001b[0m\n\u001b[1;32m    762\u001b[0m         \u001b[0;32melse\u001b[0m\u001b[0;34m:\u001b[0m\u001b[0;34m\u001b[0m\u001b[0;34m\u001b[0m\u001b[0m\n",
      "\u001b[0;32m~/anaconda3/envs/PhD/lib/python3.8/site-packages/pyccl/boltzmann.py\u001b[0m in \u001b[0;36mget_camb_pk_lin\u001b[0;34m(cosmo)\u001b[0m\n\u001b[1;32m    150\u001b[0m \u001b[0;34m\u001b[0m\u001b[0m\n\u001b[1;32m    151\u001b[0m     \u001b[0;31m# run CAMB and get results\u001b[0m\u001b[0;34m\u001b[0m\u001b[0;34m\u001b[0m\u001b[0;34m\u001b[0m\u001b[0m\n\u001b[0;32m--> 152\u001b[0;31m     \u001b[0mcamb_res\u001b[0m \u001b[0;34m=\u001b[0m \u001b[0mcamb\u001b[0m\u001b[0;34m.\u001b[0m\u001b[0mget_results\u001b[0m\u001b[0;34m(\u001b[0m\u001b[0mcp\u001b[0m\u001b[0;34m)\u001b[0m\u001b[0;34m\u001b[0m\u001b[0;34m\u001b[0m\u001b[0m\n\u001b[0m\u001b[1;32m    153\u001b[0m     k, z, pk = camb_res.get_linear_matter_power_spectrum(\n\u001b[1;32m    154\u001b[0m         hubble_units=True, nonlinear=False)\n",
      "\u001b[0;32m~/anaconda3/envs/PhD/lib/python3.8/site-packages/camb/camb.py\u001b[0m in \u001b[0;36mget_results\u001b[0;34m(params)\u001b[0m\n\u001b[1;32m     33\u001b[0m     \u001b[0;32mif\u001b[0m \u001b[0m_debug_params\u001b[0m\u001b[0;34m:\u001b[0m\u001b[0;34m\u001b[0m\u001b[0;34m\u001b[0m\u001b[0m\n\u001b[1;32m     34\u001b[0m         \u001b[0mprint\u001b[0m\u001b[0;34m(\u001b[0m\u001b[0mparams\u001b[0m\u001b[0;34m)\u001b[0m\u001b[0;34m\u001b[0m\u001b[0;34m\u001b[0m\u001b[0m\n\u001b[0;32m---> 35\u001b[0;31m     \u001b[0mres\u001b[0m\u001b[0;34m.\u001b[0m\u001b[0mcalc_power_spectra\u001b[0m\u001b[0;34m(\u001b[0m\u001b[0mparams\u001b[0m\u001b[0;34m)\u001b[0m\u001b[0;34m\u001b[0m\u001b[0;34m\u001b[0m\u001b[0m\n\u001b[0m\u001b[1;32m     36\u001b[0m     \u001b[0;32mreturn\u001b[0m \u001b[0mres\u001b[0m\u001b[0;34m\u001b[0m\u001b[0;34m\u001b[0m\u001b[0m\n\u001b[1;32m     37\u001b[0m \u001b[0;34m\u001b[0m\u001b[0m\n",
      "\u001b[0;32m~/anaconda3/envs/PhD/lib/python3.8/site-packages/camb/results.py\u001b[0m in \u001b[0;36mcalc_power_spectra\u001b[0;34m(self, params)\u001b[0m\n\u001b[1;32m    327\u001b[0m         \"\"\"\n\u001b[1;32m    328\u001b[0m         \u001b[0;32mif\u001b[0m \u001b[0mparams\u001b[0m \u001b[0;32mis\u001b[0m \u001b[0;32mnot\u001b[0m \u001b[0;32mNone\u001b[0m\u001b[0;34m:\u001b[0m\u001b[0;34m\u001b[0m\u001b[0;34m\u001b[0m\u001b[0m\n\u001b[0;32m--> 329\u001b[0;31m             \u001b[0mself\u001b[0m\u001b[0;34m.\u001b[0m\u001b[0mcalc_transfers\u001b[0m\u001b[0;34m(\u001b[0m\u001b[0mparams\u001b[0m\u001b[0;34m,\u001b[0m \u001b[0monly_transfers\u001b[0m\u001b[0;34m=\u001b[0m\u001b[0;32mFalse\u001b[0m\u001b[0;34m)\u001b[0m\u001b[0;34m\u001b[0m\u001b[0;34m\u001b[0m\u001b[0m\n\u001b[0m\u001b[1;32m    330\u001b[0m         \u001b[0;32melse\u001b[0m\u001b[0;34m:\u001b[0m\u001b[0;34m\u001b[0m\u001b[0;34m\u001b[0m\u001b[0m\n\u001b[1;32m    331\u001b[0m             \u001b[0mself\u001b[0m\u001b[0;34m.\u001b[0m\u001b[0m_check_powers\u001b[0m\u001b[0;34m(\u001b[0m\u001b[0;34m)\u001b[0m\u001b[0;34m\u001b[0m\u001b[0;34m\u001b[0m\u001b[0m\n",
      "\u001b[0;32m~/anaconda3/envs/PhD/lib/python3.8/site-packages/camb/results.py\u001b[0m in \u001b[0;36mcalc_transfers\u001b[0;34m(self, params, only_transfers, only_time_sources)\u001b[0m\n\u001b[1;32m    307\u001b[0m         \u001b[0;32mif\u001b[0m \u001b[0;32mnot\u001b[0m \u001b[0;34m(\u001b[0m\u001b[0monly_transfers\u001b[0m \u001b[0;32mor\u001b[0m \u001b[0monly_time_sources\u001b[0m\u001b[0;34m)\u001b[0m\u001b[0;34m:\u001b[0m\u001b[0;34m\u001b[0m\u001b[0;34m\u001b[0m\u001b[0m\n\u001b[1;32m    308\u001b[0m             \u001b[0mself\u001b[0m\u001b[0;34m.\u001b[0m\u001b[0m_check_powers\u001b[0m\u001b[0;34m(\u001b[0m\u001b[0mparams\u001b[0m\u001b[0;34m)\u001b[0m\u001b[0;34m\u001b[0m\u001b[0;34m\u001b[0m\u001b[0m\n\u001b[0;32m--> 309\u001b[0;31m         if CAMBdata_gettransfers(byref(self), byref(params), byref(c_int(1 if only_transfers else 0)),\n\u001b[0m\u001b[1;32m    310\u001b[0m                                  byref(c_int(1 if only_time_sources else 0))):\n\u001b[1;32m    311\u001b[0m             \u001b[0mconfig\u001b[0m\u001b[0;34m.\u001b[0m\u001b[0mcheck_global_error\u001b[0m\u001b[0;34m(\u001b[0m\u001b[0;34m'calc_transfer'\u001b[0m\u001b[0;34m)\u001b[0m\u001b[0;34m\u001b[0m\u001b[0;34m\u001b[0m\u001b[0m\n",
      "\u001b[0;31mKeyboardInterrupt\u001b[0m: "
     ]
    }
   ],
   "source": [
    "data = []\n",
    "for i in range(len(w_arr)):\n",
    "    for j in range(len(h_arr)):\n",
    "        cosmo = ccl.Cosmology(Omega_c=w_arr[i], Omega_b=0.049, h=h_arr[j], sigma8=0.81, n_s=0.96)\n",
    "        data.append(ccl.power.linear_matter_power(cosmo, k_arr, 1))\n",
    "data = np.array(data)"
   ]
  },
  {
   "cell_type": "code",
   "execution_count": null,
   "metadata": {},
   "outputs": [],
   "source": [
    "data.shape"
   ]
  },
  {
   "cell_type": "markdown",
   "metadata": {},
   "source": [
    "Take log and remove mean"
   ]
  },
  {
   "cell_type": "code",
   "execution_count": null,
   "metadata": {},
   "outputs": [],
   "source": [
    "log_data = np.log(data)\n",
    "log_mean_data = np.log(np.mean(data, axis=0)) #avg over all cosmologies\n",
    "clean_data = log_data - log_mean_data"
   ]
  },
  {
   "cell_type": "code",
   "execution_count": null,
   "metadata": {},
   "outputs": [],
   "source": [
    "clean_data.shape"
   ]
  },
  {
   "cell_type": "markdown",
   "metadata": {},
   "source": [
    "Now make PCA to remove number of samples"
   ]
  },
  {
   "cell_type": "code",
   "execution_count": null,
   "metadata": {},
   "outputs": [],
   "source": [
    "from sklearn.decomposition import PCA"
   ]
  },
  {
   "cell_type": "code",
   "execution_count": null,
   "metadata": {},
   "outputs": [],
   "source": [
    "pca = PCA(n_components=4)\n",
    "principalComponents = pca.fit_transform(np.transpose(clean_data))"
   ]
  },
  {
   "cell_type": "code",
   "execution_count": null,
   "metadata": {},
   "outputs": [],
   "source": [
    "pca.components_"
   ]
  },
  {
   "cell_type": "code",
   "execution_count": null,
   "metadata": {},
   "outputs": [],
   "source": [
    "for i in range(len(log_data)) :   \n",
    "    plt.plot( log_data[i], 'b-', alpha=0.3)\n",
    "plt.plot( log_mean_data, 'r-', label='Log mean data')\n",
    "plt.xlabel('k', fontsize=15)\n",
    "plt.ylabel('ln Pk', fontsize=15)\n",
    "plt.legend()\n",
    "plt.show()"
   ]
  },
  {
   "cell_type": "code",
   "execution_count": null,
   "metadata": {},
   "outputs": [],
   "source": [
    "for i in range(len(clean_data)):\n",
    "    plt.plot( clean_data[i], 'b-', alpha=0.2)\n",
    "plt.xlabel('k', fontsize=15)\n",
    "plt.ylabel('ln Pk', fontsize=15)\n",
    "plt.legend()\n",
    "plt.show()"
   ]
  },
  {
   "cell_type": "code",
   "execution_count": null,
   "metadata": {},
   "outputs": [],
   "source": [
    " principalComponents = np.transpose( principalComponents)"
   ]
  },
  {
   "cell_type": "code",
   "execution_count": null,
   "metadata": {},
   "outputs": [],
   "source": [
    "plt.plot( principalComponents[0], 'g-',label='PCA1')\n",
    "plt.plot( principalComponents[1], 'r-',label='PCA2')\n",
    "plt.plot( principalComponents[2], 'b-',label='PCA3')\n",
    "plt.plot( principalComponents[3], 'y-',label='PCA4')\n",
    "plt.plot( log_mean_data, 'k-', label='Log mean data')\n",
    "plt.xlabel('k', fontsize=15)\n",
    "plt.ylabel('ln Pk', fontsize=15)\n",
    "plt.legend()\n",
    "plt.show()"
   ]
  },
  {
   "cell_type": "markdown",
   "metadata": {},
   "source": [
    "Now we need to match estimates based on this PC to actual spectra "
   ]
  },
  {
   "cell_type": "code",
   "execution_count": null,
   "metadata": {},
   "outputs": [],
   "source": [
    "def theory_Pk(weigths , evecs, mean):\n",
    "    return mean + np.sum(evecs*weigths, axis=0)"
   ]
  },
  {
   "cell_type": "code",
   "execution_count": null,
   "metadata": {},
   "outputs": [],
   "source": [
    "weigths1 = np.array([[1],[0],[1],[0]])\n",
    "prediction1 = theory_Pk(weigths1, principalComponents, log_mean_data)\n",
    "weigths2 = np.array([[0],[1],[0],[1]])\n",
    "prediction2 = theory_Pk(weigths2, principalComponents, log_mean_data)"
   ]
  },
  {
   "cell_type": "code",
   "execution_count": null,
   "metadata": {},
   "outputs": [],
   "source": [
    "plt.plot( prediction1, 'r--',label='Theory 1')\n",
    "plt.plot( prediction2, 'g--',label='Theory 2')\n",
    "plt.plot( log_mean_data, 'b-',label='Log mean Pk')\n",
    "plt.xlabel('k', fontsize=15)\n",
    "plt.ylabel('ln Pk', fontsize=15)\n",
    "plt.legend()\n",
    "plt.show()"
   ]
  },
  {
   "cell_type": "markdown",
   "metadata": {},
   "source": [
    "## Interpolation Method"
   ]
  },
  {
   "cell_type": "code",
   "execution_count": 116,
   "metadata": {},
   "outputs": [],
   "source": [
    "import scipy\n",
    "import pyccl as ccl\n",
    "import numpy as np\n",
    "import pylab as plt\n",
    "import itertools\n",
    "import pickle\n",
    "\n",
    "class Lin_Pk_emulator:\n",
    "    def __init__(self, n_train, n_k, new = False):\n",
    "        \n",
    "        self.k_arr = np.logspace(-4.7,5, n_k)\n",
    "        self.wc_arr  = np.linspace(0.1, 1, n_train)\n",
    "        self.h_arr  = np.linspace(0.1,  1, n_train)\n",
    "        \n",
    "        if new:\n",
    "            self.Pk_emulator_arr = {}\n",
    "            for k in self.k_arr:  \n",
    "                print(k)\n",
    "                self.Pk_arr  = self.__theory_Pk(k, self.wc_arr, self.h_arr)\n",
    "                self.Pk_emulator = scipy.interpolate.interp2d(self.h_arr, self.wc_arr, self.Pk_arr, kind='cubic')\n",
    "                self.Pk_emulator_arr[\"{}\".format(k)]= self.Pk_emulator\n",
    "                \n",
    "            with open('Pk_emulator_arr'+'.pkl', 'wb') as f:\n",
    "                pickle.dump(self.Pk_emulator_arr, f, pickle.HIGHEST_PROTOCOL)\n",
    "\n",
    "        else:\n",
    "            self.Pk_emulator_arr = self.__load_emulator()\n",
    "            \n",
    "        return \n",
    "            \n",
    "    ###############\n",
    "    #PRIVATE METHODS\n",
    "    ###############\n",
    "    \n",
    "    def __theory_Pk(self, k, wc_arr, h_arr):\n",
    "        output = []\n",
    "        for i in range(len(wc_arr)):\n",
    "            row = []\n",
    "            for j in range(len(h_arr)):\n",
    "                cosmo = ccl.Cosmology(Omega_c=wc_arr[i], Omega_b=0.049, h=h_arr[j], sigma8=0.81, n_s=0.96)\n",
    "                row.append(np.log(ccl.power.linear_matter_power(cosmo, k, 1)))\n",
    "            output.append(np.array(row))\n",
    "        return np.array(output) \n",
    "    \n",
    "    def __load_emulator(self):\n",
    "        with open('Pk_emulator_arr'+ '.pkl', 'rb') as f:\n",
    "            return pickle.load(f)\n",
    "    \n",
    "    ###############\n",
    "    #PUBLIC METHODS\n",
    "    ###############\n",
    "    \n",
    "    def get_Pk(self, h, wc):\n",
    "        #log lin_Pk\n",
    "        self.Pk = []\n",
    "        for k in self.k_arr:\n",
    "            self.Pk_k=self.Pk_emulator_arr[\"{}\".format(k)](h, wc)[0]\n",
    "            self.Pk.append(self.Pk_k)\n",
    "            \n",
    "        return self.k_arr, np.array(self.Pk)\n",
    "        "
   ]
  },
  {
   "cell_type": "code",
   "execution_count": 122,
   "metadata": {},
   "outputs": [
    {
     "name": "stdout",
     "output_type": "stream",
     "text": [
      "1.9952623149688786e-05\n",
      "0.00023865897868585785\n",
      "0.00285466766349793\n",
      "0.034145488738336005\n",
      "0.4084238652674517\n",
      "4.885273571519382\n",
      "58.434141337351754\n",
      "698.9473207273479\n",
      "8360.306936514631\n",
      "100000.0\n"
     ]
    }
   ],
   "source": [
    "test = Lin_Pk_emulator(5, 10, new=True)"
   ]
  },
  {
   "cell_type": "code",
   "execution_count": 137,
   "metadata": {},
   "outputs": [],
   "source": [
    "k_arr, Pk_emulated = test.get_Pk(0.3, 0.76)\n",
    "cosmo = ccl.Cosmology(Omega_c=0.3, Omega_b=0.049, h=0.76, sigma8=0.81, n_s=0.96)\n",
    "#k_arr = np.logspace(-4.7,5, 5)\n",
    "Pk_theory = np.log(ccl.power.linear_matter_power(cosmo, k_arr, 1))"
   ]
  },
  {
   "cell_type": "code",
   "execution_count": 138,
   "metadata": {},
   "outputs": [
    {
     "data": {
      "image/png": "[encoded data removed]",
      "text/plain": [
       "<Figure size 432x288 with 1 Axes>"
      ]
     },
     "metadata": {
      "needs_background": "light"
     },
     "output_type": "display_data"
    }
   ],
   "source": [
    "plt.plot(k_arr, Pk_emulated, 'b-', label = 'Emulated')\n",
    "plt.plot(k_arr, Pk_theory, 'r-', label = 'Theory')\n",
    "plt.legend()\n",
    "plt.xlabel('$k$',fontsize=18)\n",
    "plt.ylabel('Log_Pk',fontsize=18)\n",
    "plt.xticks(fontsize=14)\n",
    "plt.yticks(fontsize=14)\n",
    "plt.xscale('log')\n",
    "plt.show()"
   ]
  },
  {
   "cell_type": "code",
   "execution_count": 143,
   "metadata": {},
   "outputs": [],
   "source": [
    "Pk_diff = 100*abs(Pk_emulated-Pk_theory)/Pk_theory"
   ]
  },
  {
   "cell_type": "code",
   "execution_count": 149,
   "metadata": {},
   "outputs": [
    {
     "data": {
      "image/png": "[encoded data removed]",
      "text/plain": [
       "<Figure size 432x288 with 1 Axes>"
      ]
     },
     "metadata": {
      "needs_background": "light"
     },
     "output_type": "display_data"
    }
   ],
   "source": [
    "plt.plot(k_arr, Pk_diff, 'g-', label = '100*|Pk_emulated-Pk_theory|/Pk_theory' )\n",
    "plt.xlabel('$k$',fontsize=18)\n",
    "plt.ylabel('Percentual Diff',fontsize=18)\n",
    "plt.xticks(fontsize=14)\n",
    "plt.yticks(fontsize=14)\n",
    "plt.xscale('log')\n",
    "plt.legend(loc=\"lower left\")\n",
    "plt.show()"
   ]
  },
  {
   "cell_type": "code",
   "execution_count": null,
   "metadata": {},
   "outputs": [],
   "source": []
  }
 ],
 "metadata": {
  "kernelspec": {
   "display_name": "Python 3",
   "language": "python",
   "name": "python3"
  },
  "language_info": {
   "codemirror_mode": {
    "name": "ipython",
    "version": 3
   },
   "file_extension": ".py",
   "mimetype": "text/x-python",
   "name": "python",
   "nbconvert_exporter": "python",
   "pygments_lexer": "ipython3",
   "version": "3.8.5"
  }
 },
 "nbformat": 4,
 "nbformat_minor": 4
}
