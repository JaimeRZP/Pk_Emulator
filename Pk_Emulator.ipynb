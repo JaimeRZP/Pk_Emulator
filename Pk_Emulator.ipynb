{
 "cells": [
  {
   "cell_type": "markdown",
   "metadata": {},
   "source": [
    "# Pk Emulator"
   ]
  },
  {
   "cell_type": "code",
   "execution_count": 3,
   "metadata": {},
   "outputs": [],
   "source": [
    "import pyccl as ccl\n",
    "import numpy as np\n",
    "import pylab as plt\n",
    "import itertools\n",
    "\n",
    "import pymaster as nmt"
   ]
  },
  {
   "cell_type": "markdown",
   "metadata": {},
   "source": [
    "First we want to set up a grid of h and Omega_m spanning across our priors "
   ]
  },
  {
   "cell_type": "code",
   "execution_count": 4,
   "metadata": {},
   "outputs": [],
   "source": [
    "w_arr  = np.linspace(0.1, 1, 10)\n",
    "h_arr  = np.linspace(0.1,  1, 10)"
   ]
  },
  {
   "cell_type": "code",
   "execution_count": 5,
   "metadata": {},
   "outputs": [],
   "source": [
    "cosmo = ccl.Cosmology(Omega_c=0.27, Omega_b=0.049, h=0.67, sigma8=0.81, n_s=0.96)"
   ]
  },
  {
   "cell_type": "code",
   "execution_count": 6,
   "metadata": {},
   "outputs": [],
   "source": [
    "nk = 100 # No. of points in k\n",
    "k_arr = np.logspace(-4.7,5,nk)"
   ]
  },
  {
   "cell_type": "code",
   "execution_count": 7,
   "metadata": {},
   "outputs": [
    {
     "ename": "KeyboardInterrupt",
     "evalue": "",
     "output_type": "error",
     "traceback": [
      "\u001b[0;31m---------------------------------------------------------------------------\u001b[0m",
      "\u001b[0;31mKeyboardInterrupt\u001b[0m                         Traceback (most recent call last)",
      "\u001b[0;32m<ipython-input-7-fdac18584d38>\u001b[0m in \u001b[0;36m<module>\u001b[0;34m\u001b[0m\n\u001b[1;32m      3\u001b[0m     \u001b[0;32mfor\u001b[0m \u001b[0mj\u001b[0m \u001b[0;32min\u001b[0m \u001b[0mrange\u001b[0m\u001b[0;34m(\u001b[0m\u001b[0mlen\u001b[0m\u001b[0;34m(\u001b[0m\u001b[0mh_arr\u001b[0m\u001b[0;34m)\u001b[0m\u001b[0;34m)\u001b[0m\u001b[0;34m:\u001b[0m\u001b[0;34m\u001b[0m\u001b[0;34m\u001b[0m\u001b[0m\n\u001b[1;32m      4\u001b[0m         \u001b[0mcosmo\u001b[0m \u001b[0;34m=\u001b[0m \u001b[0mccl\u001b[0m\u001b[0;34m.\u001b[0m\u001b[0mCosmology\u001b[0m\u001b[0;34m(\u001b[0m\u001b[0mOmega_c\u001b[0m\u001b[0;34m=\u001b[0m\u001b[0mw_arr\u001b[0m\u001b[0;34m[\u001b[0m\u001b[0mi\u001b[0m\u001b[0;34m]\u001b[0m\u001b[0;34m,\u001b[0m \u001b[0mOmega_b\u001b[0m\u001b[0;34m=\u001b[0m\u001b[0;36m0.049\u001b[0m\u001b[0;34m,\u001b[0m \u001b[0mh\u001b[0m\u001b[0;34m=\u001b[0m\u001b[0mh_arr\u001b[0m\u001b[0;34m[\u001b[0m\u001b[0mj\u001b[0m\u001b[0;34m]\u001b[0m\u001b[0;34m,\u001b[0m \u001b[0msigma8\u001b[0m\u001b[0;34m=\u001b[0m\u001b[0;36m0.81\u001b[0m\u001b[0;34m,\u001b[0m \u001b[0mn_s\u001b[0m\u001b[0;34m=\u001b[0m\u001b[0;36m0.96\u001b[0m\u001b[0;34m)\u001b[0m\u001b[0;34m\u001b[0m\u001b[0;34m\u001b[0m\u001b[0m\n\u001b[0;32m----> 5\u001b[0;31m         \u001b[0mdata\u001b[0m\u001b[0;34m.\u001b[0m\u001b[0mappend\u001b[0m\u001b[0;34m(\u001b[0m\u001b[0mccl\u001b[0m\u001b[0;34m.\u001b[0m\u001b[0mpower\u001b[0m\u001b[0;34m.\u001b[0m\u001b[0mlinear_matter_power\u001b[0m\u001b[0;34m(\u001b[0m\u001b[0mcosmo\u001b[0m\u001b[0;34m,\u001b[0m \u001b[0mk_arr\u001b[0m\u001b[0;34m,\u001b[0m \u001b[0;36m1\u001b[0m\u001b[0;34m)\u001b[0m\u001b[0;34m)\u001b[0m\u001b[0;34m\u001b[0m\u001b[0;34m\u001b[0m\u001b[0m\n\u001b[0m\u001b[1;32m      6\u001b[0m \u001b[0mdata\u001b[0m \u001b[0;34m=\u001b[0m \u001b[0mnp\u001b[0m\u001b[0;34m.\u001b[0m\u001b[0marray\u001b[0m\u001b[0;34m(\u001b[0m\u001b[0mdata\u001b[0m\u001b[0;34m)\u001b[0m\u001b[0;34m\u001b[0m\u001b[0;34m\u001b[0m\u001b[0m\n",
      "\u001b[0;32m~/anaconda3/envs/PhD/lib/python3.8/site-packages/pyccl/power.py\u001b[0m in \u001b[0;36mlinear_matter_power\u001b[0;34m(cosmo, k, a)\u001b[0m\n\u001b[1;32m     16\u001b[0m         \u001b[0mfloat\u001b[0m \u001b[0;32mor\u001b[0m \u001b[0marray_like\u001b[0m\u001b[0;34m:\u001b[0m \u001b[0mLinear\u001b[0m \u001b[0mmatter\u001b[0m \u001b[0mpower\u001b[0m \u001b[0mspectrum\u001b[0m\u001b[0;34m;\u001b[0m \u001b[0mMpc\u001b[0m\u001b[0;34m^\u001b[0m\u001b[0;36m3.\u001b[0m\u001b[0;34m\u001b[0m\u001b[0;34m\u001b[0m\u001b[0m\n\u001b[1;32m     17\u001b[0m     \"\"\"\n\u001b[0;32m---> 18\u001b[0;31m     \u001b[0mcosmo\u001b[0m\u001b[0;34m.\u001b[0m\u001b[0mcompute_linear_power\u001b[0m\u001b[0;34m(\u001b[0m\u001b[0;34m)\u001b[0m\u001b[0;34m\u001b[0m\u001b[0;34m\u001b[0m\u001b[0m\n\u001b[0m\u001b[1;32m     19\u001b[0m     return _vectorize_fn2(lib.linear_matter_power,\n\u001b[1;32m     20\u001b[0m                           lib.linear_matter_power_vec, cosmo, k, a)\n",
      "\u001b[0;32m~/anaconda3/envs/PhD/lib/python3.8/site-packages/pyccl/core.py\u001b[0m in \u001b[0;36mcompute_linear_power\u001b[0;34m(self)\u001b[0m\n\u001b[1;32m    722\u001b[0m             \u001b[0mself\u001b[0m\u001b[0;34m.\u001b[0m\u001b[0m_compute_linear_power_from_arrays\u001b[0m\u001b[0;34m(\u001b[0m\u001b[0;34m)\u001b[0m\u001b[0;34m\u001b[0m\u001b[0;34m\u001b[0m\u001b[0m\n\u001b[1;32m    723\u001b[0m         \u001b[0;32melse\u001b[0m\u001b[0;34m:\u001b[0m\u001b[0;34m\u001b[0m\u001b[0;34m\u001b[0m\u001b[0m\n\u001b[0;32m--> 724\u001b[0;31m             \u001b[0mself\u001b[0m\u001b[0;34m.\u001b[0m\u001b[0m_compute_linear_power_internal\u001b[0m\u001b[0;34m(\u001b[0m\u001b[0;34m)\u001b[0m\u001b[0;34m\u001b[0m\u001b[0;34m\u001b[0m\u001b[0m\n\u001b[0m\u001b[1;32m    725\u001b[0m \u001b[0;34m\u001b[0m\u001b[0m\n\u001b[1;32m    726\u001b[0m     \u001b[0;32mdef\u001b[0m \u001b[0m_compute_linear_power_internal\u001b[0m\u001b[0;34m(\u001b[0m\u001b[0mself\u001b[0m\u001b[0;34m)\u001b[0m\u001b[0;34m:\u001b[0m\u001b[0;34m\u001b[0m\u001b[0;34m\u001b[0m\u001b[0m\n",
      "\u001b[0;32m~/anaconda3/envs/PhD/lib/python3.8/site-packages/pyccl/core.py\u001b[0m in \u001b[0;36m_compute_linear_power_internal\u001b[0;34m(self)\u001b[0m\n\u001b[1;32m    758\u001b[0m         elif ((self._config_init_kwargs['transfer_function'] ==\n\u001b[1;32m    759\u001b[0m                 'boltzmann_camb') and not self.has_linear_power):\n\u001b[0;32m--> 760\u001b[0;31m             \u001b[0mpk_lin\u001b[0m \u001b[0;34m=\u001b[0m \u001b[0mget_camb_pk_lin\u001b[0m\u001b[0;34m(\u001b[0m\u001b[0mself\u001b[0m\u001b[0;34m)\u001b[0m\u001b[0;34m\u001b[0m\u001b[0;34m\u001b[0m\u001b[0m\n\u001b[0m\u001b[1;32m    761\u001b[0m             \u001b[0mpsp\u001b[0m \u001b[0;34m=\u001b[0m \u001b[0mpk_lin\u001b[0m\u001b[0;34m.\u001b[0m\u001b[0mpsp\u001b[0m\u001b[0;34m\u001b[0m\u001b[0;34m\u001b[0m\u001b[0m\n\u001b[1;32m    762\u001b[0m         \u001b[0;32melse\u001b[0m\u001b[0;34m:\u001b[0m\u001b[0;34m\u001b[0m\u001b[0;34m\u001b[0m\u001b[0m\n",
      "\u001b[0;32m~/anaconda3/envs/PhD/lib/python3.8/site-packages/pyccl/boltzmann.py\u001b[0m in \u001b[0;36mget_camb_pk_lin\u001b[0;34m(cosmo)\u001b[0m\n\u001b[1;32m    150\u001b[0m \u001b[0;34m\u001b[0m\u001b[0m\n\u001b[1;32m    151\u001b[0m     \u001b[0;31m# run CAMB and get results\u001b[0m\u001b[0;34m\u001b[0m\u001b[0;34m\u001b[0m\u001b[0;34m\u001b[0m\u001b[0m\n\u001b[0;32m--> 152\u001b[0;31m     \u001b[0mcamb_res\u001b[0m \u001b[0;34m=\u001b[0m \u001b[0mcamb\u001b[0m\u001b[0;34m.\u001b[0m\u001b[0mget_results\u001b[0m\u001b[0;34m(\u001b[0m\u001b[0mcp\u001b[0m\u001b[0;34m)\u001b[0m\u001b[0;34m\u001b[0m\u001b[0;34m\u001b[0m\u001b[0m\n\u001b[0m\u001b[1;32m    153\u001b[0m     k, z, pk = camb_res.get_linear_matter_power_spectrum(\n\u001b[1;32m    154\u001b[0m         hubble_units=True, nonlinear=False)\n",
      "\u001b[0;32m~/anaconda3/envs/PhD/lib/python3.8/site-packages/camb/camb.py\u001b[0m in \u001b[0;36mget_results\u001b[0;34m(params)\u001b[0m\n\u001b[1;32m     33\u001b[0m     \u001b[0;32mif\u001b[0m \u001b[0m_debug_params\u001b[0m\u001b[0;34m:\u001b[0m\u001b[0;34m\u001b[0m\u001b[0;34m\u001b[0m\u001b[0m\n\u001b[1;32m     34\u001b[0m         \u001b[0mprint\u001b[0m\u001b[0;34m(\u001b[0m\u001b[0mparams\u001b[0m\u001b[0;34m)\u001b[0m\u001b[0;34m\u001b[0m\u001b[0;34m\u001b[0m\u001b[0m\n\u001b[0;32m---> 35\u001b[0;31m     \u001b[0mres\u001b[0m\u001b[0;34m.\u001b[0m\u001b[0mcalc_power_spectra\u001b[0m\u001b[0;34m(\u001b[0m\u001b[0mparams\u001b[0m\u001b[0;34m)\u001b[0m\u001b[0;34m\u001b[0m\u001b[0;34m\u001b[0m\u001b[0m\n\u001b[0m\u001b[1;32m     36\u001b[0m     \u001b[0;32mreturn\u001b[0m \u001b[0mres\u001b[0m\u001b[0;34m\u001b[0m\u001b[0;34m\u001b[0m\u001b[0m\n\u001b[1;32m     37\u001b[0m \u001b[0;34m\u001b[0m\u001b[0m\n",
      "\u001b[0;32m~/anaconda3/envs/PhD/lib/python3.8/site-packages/camb/results.py\u001b[0m in \u001b[0;36mcalc_power_spectra\u001b[0;34m(self, params)\u001b[0m\n\u001b[1;32m    327\u001b[0m         \"\"\"\n\u001b[1;32m    328\u001b[0m         \u001b[0;32mif\u001b[0m \u001b[0mparams\u001b[0m \u001b[0;32mis\u001b[0m \u001b[0;32mnot\u001b[0m \u001b[0;32mNone\u001b[0m\u001b[0;34m:\u001b[0m\u001b[0;34m\u001b[0m\u001b[0;34m\u001b[0m\u001b[0m\n\u001b[0;32m--> 329\u001b[0;31m             \u001b[0mself\u001b[0m\u001b[0;34m.\u001b[0m\u001b[0mcalc_transfers\u001b[0m\u001b[0;34m(\u001b[0m\u001b[0mparams\u001b[0m\u001b[0;34m,\u001b[0m \u001b[0monly_transfers\u001b[0m\u001b[0;34m=\u001b[0m\u001b[0;32mFalse\u001b[0m\u001b[0;34m)\u001b[0m\u001b[0;34m\u001b[0m\u001b[0;34m\u001b[0m\u001b[0m\n\u001b[0m\u001b[1;32m    330\u001b[0m         \u001b[0;32melse\u001b[0m\u001b[0;34m:\u001b[0m\u001b[0;34m\u001b[0m\u001b[0;34m\u001b[0m\u001b[0m\n\u001b[1;32m    331\u001b[0m             \u001b[0mself\u001b[0m\u001b[0;34m.\u001b[0m\u001b[0m_check_powers\u001b[0m\u001b[0;34m(\u001b[0m\u001b[0;34m)\u001b[0m\u001b[0;34m\u001b[0m\u001b[0;34m\u001b[0m\u001b[0m\n",
      "\u001b[0;32m~/anaconda3/envs/PhD/lib/python3.8/site-packages/camb/results.py\u001b[0m in \u001b[0;36mcalc_transfers\u001b[0;34m(self, params, only_transfers, only_time_sources)\u001b[0m\n\u001b[1;32m    307\u001b[0m         \u001b[0;32mif\u001b[0m \u001b[0;32mnot\u001b[0m \u001b[0;34m(\u001b[0m\u001b[0monly_transfers\u001b[0m \u001b[0;32mor\u001b[0m \u001b[0monly_time_sources\u001b[0m\u001b[0;34m)\u001b[0m\u001b[0;34m:\u001b[0m\u001b[0;34m\u001b[0m\u001b[0;34m\u001b[0m\u001b[0m\n\u001b[1;32m    308\u001b[0m             \u001b[0mself\u001b[0m\u001b[0;34m.\u001b[0m\u001b[0m_check_powers\u001b[0m\u001b[0;34m(\u001b[0m\u001b[0mparams\u001b[0m\u001b[0;34m)\u001b[0m\u001b[0;34m\u001b[0m\u001b[0;34m\u001b[0m\u001b[0m\n\u001b[0;32m--> 309\u001b[0;31m         if CAMBdata_gettransfers(byref(self), byref(params), byref(c_int(1 if only_transfers else 0)),\n\u001b[0m\u001b[1;32m    310\u001b[0m                                  byref(c_int(1 if only_time_sources else 0))):\n\u001b[1;32m    311\u001b[0m             \u001b[0mconfig\u001b[0m\u001b[0;34m.\u001b[0m\u001b[0mcheck_global_error\u001b[0m\u001b[0;34m(\u001b[0m\u001b[0;34m'calc_transfer'\u001b[0m\u001b[0;34m)\u001b[0m\u001b[0;34m\u001b[0m\u001b[0;34m\u001b[0m\u001b[0m\n",
      "\u001b[0;31mKeyboardInterrupt\u001b[0m: "
     ]
    }
   ],
   "source": [
    "data = []\n",
    "for i in range(len(w_arr)):\n",
    "    for j in range(len(h_arr)):\n",
    "        cosmo = ccl.Cosmology(Omega_c=w_arr[i], Omega_b=0.049, h=h_arr[j], sigma8=0.81, n_s=0.96)\n",
    "        data.append(ccl.power.linear_matter_power(cosmo, k_arr, 1))\n",
    "data = np.array(data)"
   ]
  },
  {
   "cell_type": "code",
   "execution_count": null,
   "metadata": {},
   "outputs": [],
   "source": [
    "data.shape"
   ]
  },
  {
   "cell_type": "markdown",
   "metadata": {},
   "source": [
    "Take log and remove mean"
   ]
  },
  {
   "cell_type": "code",
   "execution_count": null,
   "metadata": {},
   "outputs": [],
   "source": [
    "log_data = np.log(data)\n",
    "log_mean_data = np.log(np.mean(data, axis=0)) #avg over all cosmologies\n",
    "clean_data = log_data - log_mean_data"
   ]
  },
  {
   "cell_type": "code",
   "execution_count": null,
   "metadata": {},
   "outputs": [],
   "source": [
    "clean_data.shape"
   ]
  },
  {
   "cell_type": "markdown",
   "metadata": {},
   "source": [
    "Now make PCA to remove number of samples"
   ]
  },
  {
   "cell_type": "code",
   "execution_count": null,
   "metadata": {},
   "outputs": [],
   "source": [
    "from sklearn.decomposition import PCA"
   ]
  },
  {
   "cell_type": "code",
   "execution_count": null,
   "metadata": {},
   "outputs": [],
   "source": [
    "pca = PCA(n_components=4)\n",
    "principalComponents = pca.fit_transform(np.transpose(clean_data))"
   ]
  },
  {
   "cell_type": "code",
   "execution_count": null,
   "metadata": {},
   "outputs": [],
   "source": [
    "pca.components_"
   ]
  },
  {
   "cell_type": "code",
   "execution_count": null,
   "metadata": {},
   "outputs": [],
   "source": [
    "for i in range(len(log_data)) :   \n",
    "    plt.plot( log_data[i], 'b-', alpha=0.3)\n",
    "plt.plot( log_mean_data, 'r-', label='Log mean data')\n",
    "plt.xlabel('k', fontsize=15)\n",
    "plt.ylabel('ln Pk', fontsize=15)\n",
    "plt.legend()\n",
    "plt.show()"
   ]
  },
  {
   "cell_type": "code",
   "execution_count": null,
   "metadata": {},
   "outputs": [],
   "source": [
    "for i in range(len(clean_data)):\n",
    "    plt.plot( clean_data[i], 'b-', alpha=0.2)\n",
    "plt.xlabel('k', fontsize=15)\n",
    "plt.ylabel('ln Pk', fontsize=15)\n",
    "plt.legend()\n",
    "plt.show()"
   ]
  },
  {
   "cell_type": "code",
   "execution_count": null,
   "metadata": {},
   "outputs": [],
   "source": [
    " principalComponents = np.transpose( principalComponents)"
   ]
  },
  {
   "cell_type": "code",
   "execution_count": null,
   "metadata": {},
   "outputs": [],
   "source": [
    "plt.plot( principalComponents[0], 'g-',label='PCA1')\n",
    "plt.plot( principalComponents[1], 'r-',label='PCA2')\n",
    "plt.plot( principalComponents[2], 'b-',label='PCA3')\n",
    "plt.plot( principalComponents[3], 'y-',label='PCA4')\n",
    "plt.plot( log_mean_data, 'k-', label='Log mean data')\n",
    "plt.xlabel('k', fontsize=15)\n",
    "plt.ylabel('ln Pk', fontsize=15)\n",
    "plt.legend()\n",
    "plt.show()"
   ]
  },
  {
   "cell_type": "markdown",
   "metadata": {},
   "source": [
    "Now we need to match estimates based on this PC to actual spectra "
   ]
  },
  {
   "cell_type": "code",
   "execution_count": null,
   "metadata": {},
   "outputs": [],
   "source": [
    "def theory_Pk(weigths , evecs, mean):\n",
    "    return mean + np.sum(evecs*weigths, axis=0)"
   ]
  },
  {
   "cell_type": "code",
   "execution_count": null,
   "metadata": {},
   "outputs": [],
   "source": [
    "weigths1 = np.array([[1],[0],[1],[0]])\n",
    "prediction1 = theory_Pk(weigths1, principalComponents, log_mean_data)\n",
    "weigths2 = np.array([[0],[1],[0],[1]])\n",
    "prediction2 = theory_Pk(weigths2, principalComponents, log_mean_data)"
   ]
  },
  {
   "cell_type": "code",
   "execution_count": null,
   "metadata": {},
   "outputs": [],
   "source": [
    "plt.plot( prediction1, 'r--',label='Theory 1')\n",
    "plt.plot( prediction2, 'g--',label='Theory 2')\n",
    "plt.plot( log_mean_data, 'b-',label='Log mean Pk')\n",
    "plt.xlabel('k', fontsize=15)\n",
    "plt.ylabel('ln Pk', fontsize=15)\n",
    "plt.legend()\n",
    "plt.show()"
   ]
  },
  {
   "cell_type": "markdown",
   "metadata": {},
   "source": [
    "# Interpolation method"
   ]
  },
  {
   "cell_type": "code",
   "execution_count": 9,
   "metadata": {},
   "outputs": [],
   "source": [
    "import scipy\n",
    "import pyccl as ccl\n",
    "import numpy as np\n",
    "import pylab as plt\n",
    "import itertools\n",
    "\n",
    "import pymaster as nmt"
   ]
  },
  {
   "cell_type": "code",
   "execution_count": 10,
   "metadata": {},
   "outputs": [],
   "source": [
    "def theory_Pk(k, wc_arr, h_arr):\n",
    "    output = []\n",
    "    for i in range(len(wc_arr)):\n",
    "        row = []\n",
    "        for j in range(len(h_arr)):\n",
    "            cosmo = ccl.Cosmology(Omega_c=wc_arr[i], Omega_b=0.049, h=h_arr[j], sigma8=0.81, n_s=0.96)\n",
    "            row.append(np.log(ccl.power.linear_matter_power(cosmo, k, 1)))\n",
    "        output.append(np.array(row))\n",
    "    return np.array(output)"
   ]
  },
  {
   "cell_type": "code",
   "execution_count": 11,
   "metadata": {},
   "outputs": [],
   "source": [
    "wc_arr  = np.linspace(0.1, 1, 4)\n",
    "h_arr  = np.linspace(0.1,  1, 5)\n",
    "Pk_arr  = theory_Pk(1, wc_arr, h_arr)"
   ]
  },
  {
   "cell_type": "code",
   "execution_count": 12,
   "metadata": {},
   "outputs": [
    {
     "name": "stdout",
     "output_type": "stream",
     "text": [
      "4\n",
      "5\n",
      "(4, 5)\n"
     ]
    }
   ],
   "source": [
    "print(wc_arr.size)\n",
    "print(h_arr.size)\n",
    "print(Pk_arr.shape)"
   ]
  },
  {
   "cell_type": "code",
   "execution_count": 13,
   "metadata": {},
   "outputs": [
    {
     "data": {
      "text/plain": [
       "<scipy.interpolate.interpolate.interp2d at 0x7f12dc8b8af0>"
      ]
     },
     "execution_count": 13,
     "metadata": {},
     "output_type": "execute_result"
    }
   ],
   "source": [
    "scipy.interpolate.interp2d(h_arr, wc_arr, Pk_arr, kind='cubic')"
   ]
  },
  {
   "cell_type": "code",
   "execution_count": 14,
   "metadata": {},
   "outputs": [
    {
     "data": {
      "text/plain": [
       "array([1.99526231e-05, 2.50022906e-05, 3.13299424e-05, 3.92590145e-05,\n",
       "       4.91947992e-05, 6.16451608e-05, 7.72464959e-05, 9.67962619e-05,\n",
       "       1.21293739e-04, 1.51991108e-04, 1.90457456e-04, 2.38658979e-04,\n",
       "       2.99059481e-04, 3.74746317e-04, 4.69588196e-04, 5.88432931e-04,\n",
       "       7.37355235e-04, 9.23967224e-04, 1.15780751e-03, 1.45082878e-03,\n",
       "       1.81800871e-03, 2.27811560e-03, 2.85466766e-03, 3.57713519e-03,\n",
       "       4.48244688e-03, 5.61687746e-03, 7.03841301e-03, 8.81971488e-03,\n",
       "       1.10518338e-02, 1.38488637e-02, 1.73537741e-02, 2.17457173e-02,\n",
       "       2.72491861e-02, 3.41454887e-02, 4.27871275e-02, 5.36158171e-02,\n",
       "       6.71850628e-02, 8.41884522e-02, 1.05495109e-01, 1.32194115e-01,\n",
       "       1.65650183e-01, 2.07573409e-01, 2.60106686e-01, 3.25935236e-01,\n",
       "       4.08423865e-01, 5.11788955e-01, 6.41313980e-01, 8.03619571e-01,\n",
       "       1.00700193e+00, 1.26185688e+00, 1.58121126e+00, 1.98138877e+00,\n",
       "       2.48284435e+00, 3.11120976e+00, 3.89860370e+00, 4.88527357e+00,\n",
       "       6.12165270e+00, 7.67093822e+00, 9.61232138e+00, 1.20450354e+01,\n",
       "       1.50934277e+01, 1.89133159e+01, 2.36999525e+01, 2.96980048e+01,\n",
       "       3.72140615e+01, 4.66323035e+01, 5.84341413e+01, 7.32228224e+01,\n",
       "       9.17542654e+01, 1.14975700e+02, 1.44074081e+02, 1.80536765e+02,\n",
       "       2.26227530e+02, 2.83481846e+02, 3.55226249e+02, 4.45127933e+02,\n",
       "       5.57782194e+02, 6.98947321e+02, 8.75838924e+02, 1.09749877e+03,\n",
       "       1.37525692e+03, 1.72331091e+03, 2.15945140e+03, 2.70597159e+03,\n",
       "       3.39080668e+03, 4.24896182e+03, 5.32430133e+03, 6.67179086e+03,\n",
       "       8.36030694e+03, 1.04761575e+04, 1.31274937e+04, 1.64498377e+04,\n",
       "       2.06130100e+04, 2.58298100e+04, 3.23668929e+04, 4.05583994e+04,\n",
       "       5.08230361e+04, 6.36854767e+04, 7.98031808e+04, 1.00000000e+05])"
      ]
     },
     "execution_count": 14,
     "metadata": {},
     "output_type": "execute_result"
    }
   ],
   "source": [
    "nk = 100 # No. of points in k\n",
    "k_arr = np.logspace(-4.7,5,nk)\n",
    "k_arr"
   ]
  },
  {
   "cell_type": "code",
   "execution_count": null,
   "metadata": {},
   "outputs": [],
   "source": []
  }
 ],
 "metadata": {
  "kernelspec": {
   "display_name": "Python 3",
   "language": "python",
   "name": "python3"
  },
  "language_info": {
   "codemirror_mode": {
    "name": "ipython",
    "version": 3
   },
   "file_extension": ".py",
   "mimetype": "text/x-python",
   "name": "python",
   "nbconvert_exporter": "python",
   "pygments_lexer": "ipython3",
   "version": "3.8.5"
  }
 },
 "nbformat": 4,
 "nbformat_minor": 4
}
