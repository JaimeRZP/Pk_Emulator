{
 "cells": [
  {
   "cell_type": "markdown",
   "metadata": {},
   "source": [
    "# Pk Emulator"
   ]
  },
  {
   "cell_type": "markdown",
   "metadata": {},
   "source": [
    "## PCA+GP Method"
   ]
  },
  {
   "cell_type": "code",
   "execution_count": 78,
   "metadata": {},
   "outputs": [],
   "source": [
    "import scipy\n",
    "import pyccl as ccl\n",
    "import numpy as np\n",
    "import pylab as plt\n",
    "import itertools\n",
    "\n",
    "import pymaster as nmt\n",
    "from sklearn.decomposition import PCA\n",
    "\n",
    "class Lin_Pk_emulator:\n",
    "    def __init__(self, n_train, n_k, n_evecs, new = False):\n",
    "        \n",
    "        self.n_evecs = n_evecs\n",
    "        self.k_arr = np.logspace(-4.7,5, n_k)\n",
    "        self.wc_arr  = np.linspace(0.1, 1, n_train)\n",
    "        self.h_arr  = np.linspace(0.6,  0.9, n_train)\n",
    "        \n",
    "        if new:\n",
    "            self.grid = []\n",
    "            for i in range(len(self.wc_arr)):\n",
    "                for j in range(len(self.h_arr)):\n",
    "                    self.grid.append(self._get_theory_Pk(self.wc_arr[i], self.h_arr[j]))\n",
    "            self.grid = np.array(self.grid)\n",
    "                \n",
    "            np.savetxt('Pk_grid.txt', self.grid)\n",
    "        else:\n",
    "            self.grid = np.loadtxt('Pk_grid.txt')\n",
    "        \n",
    "        self.log_grid = np.log(self.grid)\n",
    "        self.log_mean_grid = np.log(np.mean(self.grid, axis=0)) #avg over all cosmologies\n",
    "        self.clean_grid = self.log_grid - self.log_mean_grid\n",
    "        \n",
    "        self.evecs = None\n",
    "        self.w_arr = None\n",
    "        self.w_emulator = None\n",
    "        \n",
    "        \n",
    "        \n",
    "        return \n",
    "            \n",
    "    \n",
    "    def get_evecs(self):\n",
    "        if self.evecs is None:\n",
    "            pca = PCA(n_components=self.n_evecs)\n",
    "            self.evecs = pca.fit_transform(np.transpose(self.clean_grid))\n",
    "        return self.evecs\n",
    "    \n",
    "    def get_w_arr(self):\n",
    "        if self.w_arr is None:\n",
    "            self.w_arr = []\n",
    "            for i in range(len(self.wc_arr)):\n",
    "                row = []\n",
    "                for j in range(len(self.h_arr)):\n",
    "                    Pk_ij = self._get_theory_Pk(self.wc_arr[i], self.h_arr[j])\n",
    "                    w_ij = self._get_weigths(Pk_ij)\n",
    "                    row.append(w_ij)\n",
    "                self.w_arr.append(row)\n",
    "                \n",
    "        self.w_arr = np.array(self.w_arr)        \n",
    "        return self.w_arr\n",
    "    \n",
    "    def get_w_emulator(self):\n",
    "        if self.w_emulator is None:\n",
    "            print(len(self.h_arr))\n",
    "            print(len(self.wc_arr))\n",
    "            print(self.w_arr.shape)\n",
    "            self.w_emulator = scipy.interpolate.interp2d(self.h_arr, self.wc_arr, self.w_arr, kind='cubic')\n",
    "        return self.w_emulator\n",
    "    \n",
    "    def _get_weigths(self, Pk):\n",
    "        w1 = np.array(np.ones(len(self.k_arr)))\n",
    "        M = np.append(np.transpose(self.evecs), [w1], axis=0)\n",
    "        M = np.transpose(M)\n",
    "        y = np.log(Pk) - self.log_mean_grid\n",
    "        return np.linalg.lstsq(M, y, rcond=None)[0]\n",
    "        \n",
    "    def _get_theory_Pk(self, wc, h):\n",
    "        cosmo = ccl.Cosmology(Omega_c=wc, Omega_b=0.049, h=h, sigma8=0.81, n_s=0.96)\n",
    "        return ccl.power.linear_matter_power(cosmo, self.k_arr, 1)\n",
    "        \n",
    "    def _get_evec_Pk(weigths , evecs, mean):\n",
    "        return mean + np.sum(evecs*weigths, axis=1) \n",
    "    \n",
    "    "
   ]
  },
  {
   "cell_type": "code",
   "execution_count": 79,
   "metadata": {},
   "outputs": [],
   "source": [
    "test = Lin_Pk_emulator(5, 100, 3)"
   ]
  },
  {
   "cell_type": "code",
   "execution_count": 80,
   "metadata": {},
   "outputs": [],
   "source": [
    "test.get_evecs();"
   ]
  },
  {
   "cell_type": "code",
   "execution_count": 81,
   "metadata": {},
   "outputs": [],
   "source": [
    "test.get_w_arr();"
   ]
  },
  {
   "cell_type": "code",
   "execution_count": 82,
   "metadata": {},
   "outputs": [
    {
     "name": "stdout",
     "output_type": "stream",
     "text": [
      "5\n",
      "5\n",
      "(5, 5, 4)\n"
     ]
    },
    {
     "ename": "ValueError",
     "evalue": "Invalid length for input z for non rectangular grid",
     "output_type": "error",
     "traceback": [
      "\u001b[0;31m---------------------------------------------------------------------------\u001b[0m",
      "\u001b[0;31mValueError\u001b[0m                                Traceback (most recent call last)",
      "\u001b[0;32m<ipython-input-82-367f0d66aaf0>\u001b[0m in \u001b[0;36m<module>\u001b[0;34m\u001b[0m\n\u001b[0;32m----> 1\u001b[0;31m \u001b[0mtest\u001b[0m\u001b[0;34m.\u001b[0m\u001b[0mget_w_emulator\u001b[0m\u001b[0;34m(\u001b[0m\u001b[0;34m)\u001b[0m\u001b[0;34m\u001b[0m\u001b[0;34m\u001b[0m\u001b[0m\n\u001b[0m",
      "\u001b[0;32m<ipython-input-78-0ee7447d13b3>\u001b[0m in \u001b[0;36mget_w_emulator\u001b[0;34m(self)\u001b[0m\n\u001b[1;32m     65\u001b[0m             \u001b[0mprint\u001b[0m\u001b[0;34m(\u001b[0m\u001b[0mlen\u001b[0m\u001b[0;34m(\u001b[0m\u001b[0mself\u001b[0m\u001b[0;34m.\u001b[0m\u001b[0mwc_arr\u001b[0m\u001b[0;34m)\u001b[0m\u001b[0;34m)\u001b[0m\u001b[0;34m\u001b[0m\u001b[0;34m\u001b[0m\u001b[0m\n\u001b[1;32m     66\u001b[0m             \u001b[0mprint\u001b[0m\u001b[0;34m(\u001b[0m\u001b[0mself\u001b[0m\u001b[0;34m.\u001b[0m\u001b[0mw_arr\u001b[0m\u001b[0;34m.\u001b[0m\u001b[0mshape\u001b[0m\u001b[0;34m)\u001b[0m\u001b[0;34m\u001b[0m\u001b[0;34m\u001b[0m\u001b[0m\n\u001b[0;32m---> 67\u001b[0;31m             \u001b[0mself\u001b[0m\u001b[0;34m.\u001b[0m\u001b[0mw_emulator\u001b[0m \u001b[0;34m=\u001b[0m \u001b[0mscipy\u001b[0m\u001b[0;34m.\u001b[0m\u001b[0minterpolate\u001b[0m\u001b[0;34m.\u001b[0m\u001b[0minterp2d\u001b[0m\u001b[0;34m(\u001b[0m\u001b[0mself\u001b[0m\u001b[0;34m.\u001b[0m\u001b[0mh_arr\u001b[0m\u001b[0;34m,\u001b[0m \u001b[0mself\u001b[0m\u001b[0;34m.\u001b[0m\u001b[0mwc_arr\u001b[0m\u001b[0;34m,\u001b[0m \u001b[0mself\u001b[0m\u001b[0;34m.\u001b[0m\u001b[0mw_arr\u001b[0m\u001b[0;34m,\u001b[0m \u001b[0mkind\u001b[0m\u001b[0;34m=\u001b[0m\u001b[0;34m'cubic'\u001b[0m\u001b[0;34m)\u001b[0m\u001b[0;34m\u001b[0m\u001b[0;34m\u001b[0m\u001b[0m\n\u001b[0m\u001b[1;32m     68\u001b[0m         \u001b[0;32mreturn\u001b[0m \u001b[0mself\u001b[0m\u001b[0;34m.\u001b[0m\u001b[0mw_emulator\u001b[0m\u001b[0;34m\u001b[0m\u001b[0;34m\u001b[0m\u001b[0m\n\u001b[1;32m     69\u001b[0m \u001b[0;34m\u001b[0m\u001b[0m\n",
      "\u001b[0;32m~/anaconda3/envs/PhD/lib/python3.8/site-packages/scipy/interpolate/interpolate.py\u001b[0m in \u001b[0;36m__init__\u001b[0;34m(self, x, y, z, kind, copy, bounds_error, fill_value)\u001b[0m\n\u001b[1;32m    215\u001b[0m                     \"x and y must have equal lengths for non rectangular grid\")\n\u001b[1;32m    216\u001b[0m             \u001b[0;32mif\u001b[0m \u001b[0mlen\u001b[0m\u001b[0;34m(\u001b[0m\u001b[0mz\u001b[0m\u001b[0;34m)\u001b[0m \u001b[0;34m!=\u001b[0m \u001b[0mlen\u001b[0m\u001b[0;34m(\u001b[0m\u001b[0mx\u001b[0m\u001b[0;34m)\u001b[0m\u001b[0;34m:\u001b[0m\u001b[0;34m\u001b[0m\u001b[0;34m\u001b[0m\u001b[0m\n\u001b[0;32m--> 217\u001b[0;31m                 raise ValueError(\n\u001b[0m\u001b[1;32m    218\u001b[0m                     \"Invalid length for input z for non rectangular grid\")\n\u001b[1;32m    219\u001b[0m \u001b[0;34m\u001b[0m\u001b[0m\n",
      "\u001b[0;31mValueError\u001b[0m: Invalid length for input z for non rectangular grid"
     ]
    }
   ],
   "source": [
    "test.get_w_emulator()"
   ]
  },
  {
   "cell_type": "markdown",
   "metadata": {},
   "source": [
    "First we want to set up a grid of h and Omega_m spanning across our priors "
   ]
  },
  {
   "cell_type": "code",
   "execution_count": null,
   "metadata": {},
   "outputs": [],
   "source": [
    "wc_arr  = np.linspace(0.1, 3, 10)\n",
    "h_arr  = np.linspace(0.6, 0.85, 10)"
   ]
  },
  {
   "cell_type": "code",
   "execution_count": null,
   "metadata": {},
   "outputs": [],
   "source": [
    "cosmo = ccl.Cosmology(Omega_c=0.27, Omega_b=0.049, h=0.67, sigma8=0.81, n_s=0.96)"
   ]
  },
  {
   "cell_type": "code",
   "execution_count": null,
   "metadata": {},
   "outputs": [],
   "source": [
    "nk = 100 # No. of points in k\n",
    "k_arr = np.logspace(-4.7,5,nk)"
   ]
  },
  {
   "cell_type": "code",
   "execution_count": null,
   "metadata": {},
   "outputs": [],
   "source": [
    "data = []\n",
    "for i in range(len(wc_arr)):\n",
    "    for j in range(len(h_arr)):\n",
    "        cosmo = ccl.Cosmology(Omega_c=wc_arr[i], Omega_b=0.049, h=h_arr[j], sigma8=0.81, n_s=0.96)\n",
    "        data.append(ccl.power.linear_matter_power(cosmo, k_arr, 1))\n",
    "data = np.array(data)"
   ]
  },
  {
   "cell_type": "code",
   "execution_count": null,
   "metadata": {},
   "outputs": [],
   "source": [
    "data.shape"
   ]
  },
  {
   "cell_type": "markdown",
   "metadata": {},
   "source": [
    "Take log and remove mean"
   ]
  },
  {
   "cell_type": "code",
   "execution_count": null,
   "metadata": {},
   "outputs": [],
   "source": [
    "log_data = np.log(data)\n",
    "log_mean_data = np.log(np.mean(data, axis=0)) #avg over all cosmologies\n",
    "clean_data = log_data - log_mean_data"
   ]
  },
  {
   "cell_type": "code",
   "execution_count": null,
   "metadata": {},
   "outputs": [],
   "source": [
    "clean_data.shape"
   ]
  },
  {
   "cell_type": "markdown",
   "metadata": {},
   "source": [
    "Now make PCA to remove number of samples"
   ]
  },
  {
   "cell_type": "code",
   "execution_count": null,
   "metadata": {},
   "outputs": [],
   "source": [
    "from sklearn.decomposition import PCA"
   ]
  },
  {
   "cell_type": "code",
   "execution_count": null,
   "metadata": {},
   "outputs": [],
   "source": [
    "pca = PCA(n_components=8)\n",
    "principalComponents = pca.fit_transform(np.transpose(clean_data))"
   ]
  },
  {
   "cell_type": "code",
   "execution_count": null,
   "metadata": {},
   "outputs": [],
   "source": [
    "for i in range(len(log_data)) :   \n",
    "    plt.plot( log_data[i], 'b-', alpha=0.3)\n",
    "plt.plot( log_mean_data, 'r-', label='Log mean data')\n",
    "plt.xlabel('k', fontsize=15)\n",
    "plt.ylabel('ln Pk', fontsize=15)\n",
    "plt.legend()\n",
    "plt.show()"
   ]
  },
  {
   "cell_type": "code",
   "execution_count": null,
   "metadata": {},
   "outputs": [],
   "source": [
    "for i in range(len(clean_data)):\n",
    "    plt.plot( clean_data[i], 'b-', alpha=0.2)\n",
    "plt.xlabel('k', fontsize=15)\n",
    "plt.ylabel('ln Pk', fontsize=15)\n",
    "plt.legend()\n",
    "plt.show()"
   ]
  },
  {
   "cell_type": "code",
   "execution_count": null,
   "metadata": {},
   "outputs": [],
   "source": [
    " principalComponents = np.transpose( principalComponents)"
   ]
  },
  {
   "cell_type": "code",
   "execution_count": null,
   "metadata": {},
   "outputs": [],
   "source": [
    "plt.plot( principalComponents[0], 'g-',label='PCA1')\n",
    "plt.plot( principalComponents[1], 'r-',label='PCA2')\n",
    "plt.plot( principalComponents[2], 'b-',label='PCA3')\n",
    "plt.plot( principalComponents[3], 'y-',label='PCA4')\n",
    "\n",
    "plt.plot( log_mean_data, 'k-', label='Log mean data')\n",
    "plt.xlabel('k', fontsize=15)\n",
    "plt.ylabel('ln Pk', fontsize=15)\n",
    "plt.legend()\n",
    "plt.show()"
   ]
  },
  {
   "cell_type": "markdown",
   "metadata": {},
   "source": [
    "Now we need to match estimates based on this PC to actual spectra - Least Squares "
   ]
  },
  {
   "cell_type": "code",
   "execution_count": null,
   "metadata": {},
   "outputs": [],
   "source": [
    "#Define matrix y = M*w\n",
    "M = principalComponents\n",
    "M = np.append(M, [np.ones(len(k_arr))], axis=0)\n",
    "M = np.transpose(M)\n",
    "#Amplitudes\n",
    "#w = np.array[[w1], [w2], [w3], [w3]]"
   ]
  },
  {
   "cell_type": "code",
   "execution_count": null,
   "metadata": {},
   "outputs": [],
   "source": [
    "M"
   ]
  },
  {
   "cell_type": "code",
   "execution_count": null,
   "metadata": {},
   "outputs": [],
   "source": [
    "cosmo = ccl.Cosmology(Omega_c=0.27, Omega_b=0.049, h=0.67, sigma8=0.81, n_s=0.96)\n",
    "y = ccl.power.linear_matter_power(cosmo, k_arr, 1)\n",
    "y = np.log(y) - log_mean_data"
   ]
  },
  {
   "cell_type": "code",
   "execution_count": null,
   "metadata": {},
   "outputs": [],
   "source": [
    "y.shape"
   ]
  },
  {
   "cell_type": "code",
   "execution_count": null,
   "metadata": {},
   "outputs": [],
   "source": [
    "w = np.linalg.lstsq(M, y, rcond=None)[0]"
   ]
  },
  {
   "cell_type": "code",
   "execution_count": null,
   "metadata": {},
   "outputs": [],
   "source": [
    "w"
   ]
  },
  {
   "cell_type": "code",
   "execution_count": null,
   "metadata": {},
   "outputs": [],
   "source": [
    "def emulated_Pk(weigths , evecs, mean):\n",
    "    return mean + np.sum(evecs*weigths, axis=1)"
   ]
  },
  {
   "cell_type": "code",
   "execution_count": null,
   "metadata": {},
   "outputs": [],
   "source": [
    "emulated = emulated_Pk(w, M, log_mean_data)\n",
    "theory  = np.log(ccl.power.linear_matter_power(cosmo, k_arr, 1))"
   ]
  },
  {
   "cell_type": "code",
   "execution_count": null,
   "metadata": {},
   "outputs": [],
   "source": [
    "plt.plot(k_arr, emulated , 'g--', label = 'Emulated' )\n",
    "plt.plot(k_arr, theory, 'r--', label = 'Theory' )\n",
    "plt.xlabel('$k$',fontsize=18)\n",
    "plt.ylabel('log_Pk',fontsize=18)\n",
    "plt.xticks(fontsize=14)\n",
    "plt.yticks(fontsize=14)\n",
    "plt.xscale('log')\n",
    "plt.legend(loc=\"lower left\")\n",
    "plt.show()"
   ]
  },
  {
   "cell_type": "code",
   "execution_count": null,
   "metadata": {},
   "outputs": [],
   "source": [
    "plt.plot(k_arr, np.abs(emulated - theory), 'g-', label = 'diff' )\n",
    "plt.xlabel('$k$',fontsize=18)\n",
    "plt.ylabel('Diff',fontsize=18)\n",
    "plt.xticks(fontsize=14)\n",
    "plt.yticks(fontsize=14)\n",
    "plt.xscale('log')\n",
    "plt.legend(loc=\"lower left\")\n",
    "plt.show()"
   ]
  },
  {
   "cell_type": "markdown",
   "metadata": {},
   "source": [
    "why is the emulated line consistently above the theory estimate?"
   ]
  },
  {
   "cell_type": "markdown",
   "metadata": {},
   "source": [
    "Moving on to making the grid"
   ]
  },
  {
   "cell_type": "code",
   "execution_count": null,
   "metadata": {},
   "outputs": [],
   "source": [
    "w_arr = []\n",
    "for i in range(len(wc_arr)):\n",
    "    print(i)\n",
    "    row = []\n",
    "    for j in range(len(h_arr)):\n",
    "        print(j)\n",
    "        cosmo_ij = ccl.Cosmology(Omega_c=wc_arr[i], Omega_b=0.049, h=h_arr[j], sigma8=0.81, n_s=0.96)\n",
    "        y_ij = np.log(ccl.power.linear_matter_power(cosmo_ij, k_arr, 1))\n",
    "        w_ij = np.linalg.lstsq(M, y_ij, rcond=None)[0]\n",
    "        row.append(w_ij)\n",
    "    w_arr.append(row)\n",
    "\n",
    "data = np.array(w_arr)"
   ]
  },
  {
   "cell_type": "code",
   "execution_count": null,
   "metadata": {},
   "outputs": [],
   "source": [
    "data.shape"
   ]
  },
  {
   "cell_type": "code",
   "execution_count": null,
   "metadata": {},
   "outputs": [],
   "source": []
  }
 ],
 "metadata": {
  "kernelspec": {
   "display_name": "Python 3",
   "language": "python",
   "name": "python3"
  },
  "language_info": {
   "codemirror_mode": {
    "name": "ipython",
    "version": 3
   },
   "file_extension": ".py",
   "mimetype": "text/x-python",
   "name": "python",
   "nbconvert_exporter": "python",
   "pygments_lexer": "ipython3",
   "version": "3.8.5"
  }
 },
 "nbformat": 4,
 "nbformat_minor": 4
}
