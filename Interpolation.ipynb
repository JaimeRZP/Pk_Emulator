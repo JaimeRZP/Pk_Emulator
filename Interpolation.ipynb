{
 "cells": [
  {
   "cell_type": "markdown",
   "metadata": {},
   "source": [
    "# Interpolation Method"
   ]
  },
  {
   "cell_type": "code",
   "execution_count": 7,
   "metadata": {},
   "outputs": [],
   "source": [
    "import scipy\n",
    "import pyccl as ccl\n",
    "import numpy as np\n",
    "import pylab as plt\n",
    "import itertools\n",
    "import pickle\n",
    "\n",
    "class Lin_Pk_emulator:\n",
    "    def __init__(self, n_train, n_k, new = False):\n",
    "        \n",
    "        self.k_arr = np.logspace(-4.7,5, n_k)\n",
    "        self.wc_arr  = np.linspace(0.1, 1, n_train)\n",
    "        self.h_arr  = np.linspace(0.6,  0.9, n_train)\n",
    "        \n",
    "        if new:\n",
    "            self.Pk_emulator_arr = {}\n",
    "            for k in self.k_arr:  \n",
    "                print(k)\n",
    "                self.Pk_arr  = self.__theory_Pk(k, self.wc_arr, self.h_arr)\n",
    "                print(len(self.h_arr))\n",
    "                print(len(self.wc_arr))\n",
    "                print(self.Pk_arr.shape)\n",
    "                self.Pk_emulator = scipy.interpolate.interp2d(self.h_arr, self.wc_arr, self.Pk_arr, kind='cubic')\n",
    "                self.Pk_emulator_arr[\"{}\".format(k)]= self.Pk_emulator\n",
    "                \n",
    "            with open('Pk_emulator_arr'+'.pkl', 'wb') as f:\n",
    "                pickle.dump(self.Pk_emulator_arr, f, pickle.HIGHEST_PROTOCOL)\n",
    "\n",
    "        else:\n",
    "            self.Pk_emulator_arr = self.__load_emulator()\n",
    "            \n",
    "        return \n",
    "            \n",
    "    ###############\n",
    "    #PRIVATE METHODS\n",
    "    ###############\n",
    "    \n",
    "    def __theory_Pk(self, k, wc_arr, h_arr):\n",
    "        output = []\n",
    "        for i in range(len(wc_arr)):\n",
    "            row = []\n",
    "            for j in range(len(h_arr)):\n",
    "                cosmo = ccl.Cosmology(Omega_c=wc_arr[i], Omega_b=0.049, h=h_arr[j], sigma8=0.81, n_s=0.96)\n",
    "                row.append(np.log(ccl.power.linear_matter_power(cosmo, k, 1)))\n",
    "            output.append(np.array(row))\n",
    "        return np.array(output) \n",
    "    \n",
    "    def __load_emulator(self):\n",
    "        with open('Pk_emulator_arr'+ '.pkl', 'rb') as f:\n",
    "            return pickle.load(f)\n",
    "    \n",
    "    ###############\n",
    "    #PUBLIC METHODS\n",
    "    ###############\n",
    "    \n",
    "    def get_Pk(self, h, wc):\n",
    "        #log lin_Pk\n",
    "        self.Pk = []\n",
    "        for k in self.k_arr:\n",
    "            self.Pk_k=self.Pk_emulator_arr[\"{}\".format(k)](h, wc)[0]\n",
    "            self.Pk.append(self.Pk_k)\n",
    "            \n",
    "        return self.k_arr, np.array(self.Pk)\n",
    "        "
   ]
  },
  {
   "cell_type": "code",
   "execution_count": 8,
   "metadata": {},
   "outputs": [
    {
     "name": "stdout",
     "output_type": "stream",
     "text": [
      "1.9952623149688786e-05\n",
      "5\n",
      "5\n",
      "(5, 5)\n",
      "0.00023865897868585785\n",
      "5\n",
      "5\n",
      "(5, 5)\n",
      "0.00285466766349793\n",
      "5\n",
      "5\n",
      "(5, 5)\n",
      "0.034145488738336005\n",
      "5\n",
      "5\n",
      "(5, 5)\n",
      "0.4084238652674517\n",
      "5\n",
      "5\n",
      "(5, 5)\n",
      "4.885273571519382\n",
      "5\n",
      "5\n",
      "(5, 5)\n",
      "58.434141337351754\n",
      "5\n",
      "5\n",
      "(5, 5)\n",
      "698.9473207273479\n",
      "5\n",
      "5\n",
      "(5, 5)\n",
      "8360.306936514631\n",
      "5\n",
      "5\n",
      "(5, 5)\n",
      "100000.0\n",
      "5\n",
      "5\n",
      "(5, 5)\n"
     ]
    }
   ],
   "source": [
    "test = Lin_Pk_emulator(5, 10, new = True)"
   ]
  },
  {
   "cell_type": "code",
   "execution_count": 3,
   "metadata": {},
   "outputs": [],
   "source": [
    "k_arr, Pk_emulated = test.get_Pk(0.27, 0.67)\n",
    "cosmo = ccl.Cosmology(Omega_c=0.27, Omega_b=0.049, h=0.67, sigma8=0.81, n_s=0.96)\n",
    "#k_arr = np.logspace(-4.7,5, 5)\n",
    "Pk_theory = np.log(ccl.power.linear_matter_power(cosmo, k_arr, 1))"
   ]
  },
  {
   "cell_type": "code",
   "execution_count": 4,
   "metadata": {},
   "outputs": [
    {
     "data": {
      "image/png": "[encoded data removed]",
      "text/plain": [
       "<Figure size 432x288 with 1 Axes>"
      ]
     },
     "metadata": {
      "needs_background": "light"
     },
     "output_type": "display_data"
    }
   ],
   "source": [
    "plt.plot(k_arr, Pk_emulated, 'b-', label = 'Emulated')\n",
    "plt.plot(k_arr, Pk_theory, 'r-', label = 'Theory')\n",
    "plt.legend()\n",
    "plt.xlabel('$k$',fontsize=18)\n",
    "plt.ylabel('Log_Pk',fontsize=18)\n",
    "plt.xticks(fontsize=14)\n",
    "plt.yticks(fontsize=14)\n",
    "plt.xscale('log')\n",
    "plt.show()"
   ]
  },
  {
   "cell_type": "code",
   "execution_count": 5,
   "metadata": {},
   "outputs": [],
   "source": [
    "Pk_diff = abs(Pk_emulated-Pk_theory)"
   ]
  },
  {
   "cell_type": "code",
   "execution_count": 6,
   "metadata": {},
   "outputs": [
    {
     "data": {
      "image/png": "[encoded data removed]",
      "text/plain": [
       "<Figure size 432x288 with 1 Axes>"
      ]
     },
     "metadata": {
      "needs_background": "light"
     },
     "output_type": "display_data"
    }
   ],
   "source": [
    "plt.plot(k_arr, Pk_diff, 'g-', label = '100*|Pk_emulated-Pk_theory|/Pk_theory' )\n",
    "plt.xlabel('$k$',fontsize=18)\n",
    "plt.ylabel('Percentual Diff',fontsize=18)\n",
    "plt.xticks(fontsize=14)\n",
    "plt.yticks(fontsize=14)\n",
    "plt.xscale('log')\n",
    "plt.legend(loc=\"lower left\")\n",
    "plt.show()"
   ]
  },
  {
   "cell_type": "code",
   "execution_count": null,
   "metadata": {},
   "outputs": [],
   "source": []
  }
 ],
 "metadata": {
  "kernelspec": {
   "display_name": "Python 3",
   "language": "python",
   "name": "python3"
  },
  "language_info": {
   "codemirror_mode": {
    "name": "ipython",
    "version": 3
   },
   "file_extension": ".py",
   "mimetype": "text/x-python",
   "name": "python",
   "nbconvert_exporter": "python",
   "pygments_lexer": "ipython3",
   "version": "3.8.5"
  }
 },
 "nbformat": 4,
 "nbformat_minor": 4
}
