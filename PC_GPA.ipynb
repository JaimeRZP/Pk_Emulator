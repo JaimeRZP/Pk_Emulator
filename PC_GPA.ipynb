{
 "cells": [
  {
   "cell_type": "markdown",
   "metadata": {},
   "source": [
    "# Pk Emulator"
   ]
  },
  {
   "cell_type": "markdown",
   "metadata": {},
   "source": [
    "## PCA+InterPol Method"
   ]
  },
  {
   "cell_type": "code",
   "execution_count": 1,
   "metadata": {},
   "outputs": [],
   "source": [
    "import scipy\n",
    "import pyccl as ccl\n",
    "import numpy as np\n",
    "import pylab as plt\n",
    "import itertools\n",
    "\n",
    "import pymaster as nmt\n",
    "from sklearn.decomposition import PCA\n",
    "\n",
    "class Lin_Pk_emulator:\n",
    "    def __init__(self, n_train, n_k, n_evecs, new = False):\n",
    "        \n",
    "        self.n_evecs = n_evecs\n",
    "        self.k_arr = np.logspace(-4.7,5, n_k)\n",
    "        self.wc_arr  = np.linspace(0.1, 1, n_train)\n",
    "        self.h_arr  = np.linspace(0.6,  0.9, n_train)\n",
    "        \n",
    "        if new:\n",
    "            self.grid = []\n",
    "            for i in range(len(self.wc_arr)):\n",
    "                for j in range(len(self.h_arr)):\n",
    "                    self.grid.append(self._get_theory_Pk(self.wc_arr[i], self.h_arr[j]))\n",
    "            self.grid = np.array(self.grid)\n",
    "                \n",
    "            np.savetxt('Pk_grid.txt', self.grid)\n",
    "        else:\n",
    "            self.grid = np.loadtxt('Pk_grid.txt')\n",
    "        \n",
    "        self.log_grid = np.log(self.grid)\n",
    "        self.mean_log_grid = np.mean(np.log(self.grid), axis=0) #avg over all cosmologies\n",
    "        self.clean_grid = self.log_grid - self.mean_log_grid\n",
    "        \n",
    "        self.evecs = None\n",
    "        self.w_arr = None\n",
    "        self.w_emulator = None\n",
    "        \n",
    "        \n",
    "        \n",
    "        return \n",
    "            \n",
    "    \n",
    "    def get_evecs(self):\n",
    "        if self.evecs is None:\n",
    "            pca = PCA(n_components=self.n_evecs)\n",
    "            self.evecs = pca.fit_transform(np.transpose(self.clean_grid))\n",
    "            w1 = np.array(np.ones(len(self.k_arr)))\n",
    "            self.evecs = np.insert(np.transpose(self.evecs), 0, [w1], axis=0)\n",
    "            self.evecs = np.transpose(self.evecs)\n",
    "        return self.evecs\n",
    "    \n",
    "    def get_w_arr(self):\n",
    "        if self.w_arr is None:\n",
    "            self.w_arr = []\n",
    "            for i in range(len(self.wc_arr)):\n",
    "                row = []\n",
    "                for j in range(len(self.h_arr)):\n",
    "                    Pk_ij = self._get_theory_Pk(self.wc_arr[i], self.h_arr[j])\n",
    "                    w_ij = self._get_weigths(Pk_ij)\n",
    "                    row.append(w_ij)\n",
    "                self.w_arr.append(row)\n",
    "                \n",
    "        self.w_arr = np.transpose(np.array(self.w_arr))       \n",
    "        return self.w_arr\n",
    "    \n",
    "    def get_w_emulator(self):\n",
    "        if self.w_emulator is None:\n",
    "            self.w_emulator={}\n",
    "            w =0\n",
    "            for grid in self.w_arr:\n",
    "                w_i_emulator = scipy.interpolate.interp2d( self.wc_arr, self.h_arr, grid, kind='cubic')\n",
    "                self.w_emulator[\"w_{}\".format(w)]= w_i_emulator\n",
    "                w = w+1\n",
    "        return self.w_emulator\n",
    "    \n",
    "    def _get_weigths(self, Pk):\n",
    "        y = np.log(Pk) - self.mean_log_grid\n",
    "        return np.linalg.lstsq(self.evecs, y, rcond=None)[0]\n",
    "        \n",
    "    def _get_theory_Pk(self, wc, h):\n",
    "        cosmo = ccl.Cosmology(Omega_c=wc, Omega_b=0.049, h=h, sigma8=0.81, n_s=0.96)\n",
    "        return ccl.power.linear_matter_power(cosmo, self.k_arr, 1)\n",
    "        \n",
    "    def _get_evec_Pk(self, weigths , evecs, mean):\n",
    "        print(evecs.shape)\n",
    "        print(weigths.shape)\n",
    "        return mean + np.sum(evecs*weigths, axis=1) \n",
    "    \n",
    "    def get_emulated_Pk(self, h, wc):\n",
    "        #log lin_Pk\n",
    "        w_vec = []\n",
    "        for i in range(self.n_evecs+1):\n",
    "            w_i=self.w_emulator[\"w_{}\".format(i)](h, wc)[0]\n",
    "            w_vec.append(w_i)\n",
    "        w_vec = np.array(w_vec) \n",
    "        Pk = self._get_evec_Pk(w_vec, self.evecs, self.mean_log_grid)\n",
    "        return self.k_arr, np.array(Pk)\n",
    "    \n",
    "    "
   ]
  },
  {
   "cell_type": "code",
   "execution_count": 2,
   "metadata": {},
   "outputs": [],
   "source": [
    "test = Lin_Pk_emulator(10, 10, 10, new= True)"
   ]
  },
  {
   "cell_type": "code",
   "execution_count": 3,
   "metadata": {},
   "outputs": [],
   "source": [
    "test.get_evecs();"
   ]
  },
  {
   "cell_type": "code",
   "execution_count": 4,
   "metadata": {},
   "outputs": [],
   "source": [
    "w_arr = test.get_w_arr()"
   ]
  },
  {
   "cell_type": "code",
   "execution_count": 5,
   "metadata": {},
   "outputs": [
    {
     "data": {
      "text/plain": [
       "{'w_0': <scipy.interpolate.interpolate.interp2d at 0x7f86b4675cd0>,\n",
       " 'w_1': <scipy.interpolate.interpolate.interp2d at 0x7f86b4675670>,\n",
       " 'w_2': <scipy.interpolate.interpolate.interp2d at 0x7f86b46754f0>,\n",
       " 'w_3': <scipy.interpolate.interpolate.interp2d at 0x7f86b4675790>,\n",
       " 'w_4': <scipy.interpolate.interpolate.interp2d at 0x7f86b4ed4fd0>,\n",
       " 'w_5': <scipy.interpolate.interpolate.interp2d at 0x7f86b4ef1310>,\n",
       " 'w_6': <scipy.interpolate.interpolate.interp2d at 0x7f86b4ef13a0>,\n",
       " 'w_7': <scipy.interpolate.interpolate.interp2d at 0x7f86b4ef1190>,\n",
       " 'w_8': <scipy.interpolate.interpolate.interp2d at 0x7f86b4ef1b50>,\n",
       " 'w_9': <scipy.interpolate.interpolate.interp2d at 0x7f86b4ef1100>,\n",
       " 'w_10': <scipy.interpolate.interpolate.interp2d at 0x7f86b4ef18e0>}"
      ]
     },
     "execution_count": 5,
     "metadata": {},
     "output_type": "execute_result"
    }
   ],
   "source": [
    "test.get_w_emulator()"
   ]
  },
  {
   "cell_type": "code",
   "execution_count": 6,
   "metadata": {},
   "outputs": [
    {
     "name": "stdout",
     "output_type": "stream",
     "text": [
      "(10, 11)\n",
      "(11,)\n"
     ]
    }
   ],
   "source": [
    "k_arr, emulated = test.get_emulated_Pk(0.3,0.9 )"
   ]
  },
  {
   "cell_type": "code",
   "execution_count": 7,
   "metadata": {},
   "outputs": [],
   "source": [
    "cosmo = ccl.Cosmology(Omega_c=0.3, Omega_b=0.049, h=0.9, sigma8=0.81, n_s=0.96)\n",
    "theory  = ccl.power.linear_matter_power(cosmo, k_arr, 1)"
   ]
  },
  {
   "cell_type": "code",
   "execution_count": 8,
   "metadata": {},
   "outputs": [],
   "source": [
    "emulated = np.exp(emulated)"
   ]
  },
  {
   "cell_type": "code",
   "execution_count": 9,
   "metadata": {},
   "outputs": [],
   "source": [
    "Pk_diff = abs(emulated-theory)"
   ]
  },
  {
   "cell_type": "code",
   "execution_count": 10,
   "metadata": {},
   "outputs": [
    {
     "data": {
      "image/png": "[encoded data removed]",
      "text/plain": [
       "<Figure size 432x288 with 1 Axes>"
      ]
     },
     "metadata": {
      "needs_background": "light"
     },
     "output_type": "display_data"
    }
   ],
   "source": [
    "plt.plot(k_arr, emulated , 'g-', label = 'Emulated' )\n",
    "plt.plot(k_arr, theory, 'r-', label = 'Theory' )\n",
    "plt.xlabel('$k$',fontsize=18)\n",
    "plt.ylabel('Pk',fontsize=18)\n",
    "plt.xticks(fontsize=14)\n",
    "plt.yticks(fontsize=14)\n",
    "plt.xscale('log')\n",
    "plt.legend(loc=\"lower left\")\n",
    "plt.show()"
   ]
  },
  {
   "cell_type": "code",
   "execution_count": 11,
   "metadata": {},
   "outputs": [
    {
     "data": {
      "image/png": "[encoded data removed]",
      "text/plain": [
       "<Figure size 432x288 with 1 Axes>"
      ]
     },
     "metadata": {
      "needs_background": "light"
     },
     "output_type": "display_data"
    }
   ],
   "source": [
    "plt.plot(k_arr, Pk_diff/theory, 'g-', label = '|Pk_emulated-Pk_theory|/Pk_theory' )\n",
    "plt.xlabel('$k$',fontsize=18)\n",
    "plt.ylabel('Diff',fontsize=18)\n",
    "plt.xticks(fontsize=14)\n",
    "plt.yticks(fontsize=14)\n",
    "plt.xscale('log')\n",
    "plt.legend(loc=\"lower left\")\n",
    "plt.show()"
   ]
  },
  {
   "cell_type": "code",
   "execution_count": 12,
   "metadata": {},
   "outputs": [
    {
     "data": {
      "image/png": "[encoded data removed]",
      "text/plain": [
       "<Figure size 432x288 with 1 Axes>"
      ]
     },
     "metadata": {
      "needs_background": "light"
     },
     "output_type": "display_data"
    }
   ],
   "source": [
    "plt.plot(k_arr, Pk_diff/theory, 'g-', label = '|Pk_emulated-Pk_theory|/Pk_theory' )\n",
    "plt.xlabel('$k$',fontsize=18)\n",
    "plt.ylabel('Diff',fontsize=18)\n",
    "plt.xticks(fontsize=14)\n",
    "plt.yticks(fontsize=14)\n",
    "plt.xscale('log')\n",
    "plt.legend(loc=\"lower left\")\n",
    "plt.show()"
   ]
  },
  {
   "cell_type": "code",
   "execution_count": null,
   "metadata": {},
   "outputs": [],
   "source": []
  },
  {
   "cell_type": "markdown",
   "metadata": {},
   "source": [
    "# Toy Model"
   ]
  },
  {
   "cell_type": "code",
   "execution_count": 13,
   "metadata": {},
   "outputs": [],
   "source": [
    "import scipy\n",
    "import pyccl as ccl\n",
    "import numpy as np\n",
    "import pylab as plt\n",
    "import itertools\n",
    "\n",
    "import pymaster as nmt\n",
    "from numpy import linalg as LA\n",
    "from sklearn.decomposition import PCA\n",
    "\n",
    "class Toy_emulator:\n",
    "    def __init__(self, n_train, n_k, n_evecs, new = False):\n",
    "        \n",
    "        self.n_evecs = n_k #Complete space\n",
    "        self.k_arr   = np.linspace(0,100, n_k)\n",
    "        self.k_mean  = np.mean(self.k_arr)\n",
    "        self.wc_arr  = np.linspace(0.25, 0.3, n_train)\n",
    "        self.h_arr   = np.linspace(0.6,  0.9, n_train)\n",
    "        \n",
    "        if new:\n",
    "            self.grid = []\n",
    "            for i in range(len(self.wc_arr)):\n",
    "                for j in range(len(self.h_arr)):\n",
    "                    self.grid.append(self.get_theory(self.wc_arr[i], self.h_arr[j]))\n",
    "            self.grid = np.array(self.grid)\n",
    "            np.savetxt('toy_grid.txt', self.grid)\n",
    "        else:\n",
    "            self.grid = np.loadtxt('toy_grid.txt')\n",
    "        \n",
    "        self.grid_mean = np.mean(self.grid, axis=0)\n",
    "        self.residues = self.grid-self.grid_mean\n",
    "        self.evecs = None\n",
    "        self.hand_evecs = None\n",
    "        self.w_arr = None\n",
    "        self.w_emulator = None\n",
    "        \n",
    "        \n",
    "        return \n",
    "            \n",
    "    \n",
    "    def get_evecs(self):\n",
    "        if self.evecs is None:\n",
    "            pca = PCA(n_components=self.n_evecs) \n",
    "            self.evecs = pca.fit_transform(np.transpose(self.residues))\n",
    "            w1 = np.array(np.ones(len(self.k_arr)))\n",
    "            self.evecs = np.insert(np.transpose(self.evecs), 0, [w1], axis=0)\n",
    "            self.evecs = np.transpose(self.evecs)\n",
    "        return self.evecs\n",
    "       \n",
    "    def get_w_arr(self):\n",
    "        if self.w_arr is None:\n",
    "            self.w_arr = []\n",
    "            for i in range(len(self.wc_arr)):\n",
    "                row = []\n",
    "                for j in range(len(self.h_arr)):\n",
    "                    f_k_ij = self.get_theory(self.wc_arr[i], self.h_arr[j]) - self.grid_mean\n",
    "                    w_ij = self._get_weigths(f_k_ij)\n",
    "                    row.append(w_ij)\n",
    "                self.w_arr.append(row)\n",
    "                \n",
    "        self.w_arr = np.transpose(np.array(self.w_arr))       \n",
    "        return self.w_arr\n",
    "    \n",
    "    def get_w_emulator(self):\n",
    "        if self.w_emulator is None:\n",
    "            self.w_emulator={}\n",
    "            w = 0\n",
    "            for w_i in self.w_arr:\n",
    "                w_i_emulator = scipy.interpolate.interp2d( self.wc_arr, self.h_arr, w_i, kind='cubic')\n",
    "                                                #interp2d( x(column coor), y(row coor), w_i, kind='cubic')\n",
    "                self.w_emulator[\"w_{}\".format(w)]= w_i_emulator\n",
    "                w = w+1\n",
    "        return self.w_emulator\n",
    "    \n",
    "    def _get_weigths(self, target):\n",
    "        return np.linalg.lstsq(self.evecs, target, rcond=None)[0]\n",
    "        \n",
    "    def get_theory(self, wc, h):\n",
    "        return h + wc*(self.k_arr-self.k_mean/2)\n",
    "        \n",
    "    def _get_predict(self, weigths , evecs):\n",
    "        return self.grid_mean + np.sum(evecs*weigths, axis=1) \n",
    "    \n",
    "    def get_emulated_f(self, h, wc):\n",
    "        #log lin_Pk\n",
    "        w_vec = []\n",
    "        for i in range(self.n_evecs+1): # n_evecs\n",
    "            w_i=self.w_emulator[\"w_{}\".format(i)](h, wc)[0]\n",
    "            w_vec.append(w_i)\n",
    "        w_vec = np.array(w_vec) \n",
    "        f_k = self._get_predict(w_vec, self.evecs)\n",
    "        return self.k_arr, np.array(f_k)\n",
    "    \n",
    "    "
   ]
  },
  {
   "cell_type": "code",
   "execution_count": 14,
   "metadata": {},
   "outputs": [],
   "source": [
    "toy = Toy_emulator(10, 10, None, new= True)"
   ]
  },
  {
   "cell_type": "code",
   "execution_count": 15,
   "metadata": {},
   "outputs": [
    {
     "name": "stdout",
     "output_type": "stream",
     "text": [
      "(11, 10)\n",
      "[[ 1.00000000e+00  1.00000000e+00  1.00000000e+00  1.00000000e+00\n",
      "   1.00000000e+00  1.00000000e+00  1.00000000e+00  1.00000000e+00\n",
      "   1.00000000e+00  1.00000000e+00]\n",
      " [-7.97855923e+00 -6.20554607e+00 -4.43253291e+00 -2.65951974e+00\n",
      "  -8.86506581e-01  8.86506581e-01  2.65951974e+00  4.43253291e+00\n",
      "   6.20554607e+00  7.97855923e+00]\n",
      " [ 5.50787293e-15  2.37621242e-14  3.23470312e-16 -3.70265975e-15\n",
      "   5.65192678e-16 -3.23300190e-14 -2.98728603e-14  2.42087947e-14\n",
      "  -4.57223568e-14  5.86601572e-14]\n",
      " [ 2.61415257e-15  1.52932566e-15  6.55914660e-16 -2.54745446e-16\n",
      "  -1.82219551e-15 -3.70837830e-15 -3.82987477e-15 -7.21728807e-15\n",
      "   7.36033592e-15  3.85420952e-15]\n",
      " [ 8.24535028e-16  5.49293692e-16  6.50991926e-17 -3.93747008e-16\n",
      "  -8.04428637e-16 -2.94613196e-15 -3.47540946e-15  5.76195807e-15\n",
      "   3.49401012e-15 -3.36553372e-15]\n",
      " [ 3.69280843e-16 -7.84800234e-16 -4.79268481e-16 -1.51493839e-16\n",
      "  -3.79200039e-16  5.02921414e-15 -4.73073531e-15  6.46238730e-17\n",
      "  -1.50117485e-16  4.98955203e-16]\n",
      " [-8.21100956e-17 -2.24403997e-15 -2.18503385e-16  6.22645259e-16\n",
      "   3.89672985e-15 -1.19718652e-15 -1.24848045e-15 -5.97163983e-16\n",
      "  -1.91323770e-16 -2.78600864e-16]\n",
      " [ 2.41469573e-15 -6.81816868e-16 -2.77703114e-16 -1.77742384e-15\n",
      "   4.08442082e-16  3.62441344e-16  7.90078431e-16  4.89276536e-16\n",
      "   1.75003200e-16  4.71457415e-16]\n",
      " [-1.53584149e-16  1.03158778e-15  1.01227303e-15  3.39172272e-17\n",
      "   1.05572334e-15  6.13343218e-16  3.10149121e-16  4.09851228e-16\n",
      "   6.61913509e-16  4.25695113e-16]\n",
      " [ 5.32427587e-16 -6.70351339e-16  6.43958385e-16  1.09498777e-15\n",
      "  -3.50427863e-16  6.88242517e-17  1.94171671e-16  3.17228722e-16\n",
      "   9.62331938e-17  3.71400117e-16]\n",
      " [-2.54191180e-16 -3.44891861e-16  7.76358879e-16 -5.10591884e-16\n",
      "  -1.78320964e-16 -1.07404392e-16 -1.28843794e-16 -8.74111158e-17\n",
      "  -1.39830297e-16 -6.89402706e-17]]\n"
     ]
    }
   ],
   "source": [
    "evecs = np.transpose(toy.get_evecs())\n",
    "print(evecs.shape)\n",
    "print(evecs)"
   ]
  },
  {
   "cell_type": "code",
   "execution_count": 16,
   "metadata": {},
   "outputs": [
    {
     "name": "stdout",
     "output_type": "stream",
     "text": [
      "(11, 10, 10)\n",
      "[[[-7.75000000e-01 -6.36111111e-01 -4.97222222e-01 ...  1.97222222e-01\n",
      "    3.36111111e-01  4.75000000e-01]\n",
      "  [-7.41666667e-01 -6.02777778e-01 -4.63888889e-01 ...  2.30555556e-01\n",
      "    3.69444444e-01  5.08333333e-01]\n",
      "  [-7.08333333e-01 -5.69444444e-01 -4.30555556e-01 ...  2.63888889e-01\n",
      "    4.02777778e-01  5.41666667e-01]\n",
      "  ...\n",
      "  [-5.41666667e-01 -4.02777778e-01 -2.63888889e-01 ...  4.30555556e-01\n",
      "    5.69444444e-01  7.08333333e-01]\n",
      "  [-5.08333333e-01 -3.69444444e-01 -2.30555556e-01 ...  4.63888889e-01\n",
      "    6.02777778e-01  7.41666667e-01]\n",
      "  [-4.75000000e-01 -3.36111111e-01 -1.97222222e-01 ...  4.97222222e-01\n",
      "    6.36111111e-01  7.75000000e-01]]\n",
      "\n",
      " [[-1.56669890e-01 -1.21854359e-01 -8.70388280e-02 ...  8.70388280e-02\n",
      "    1.21854359e-01  1.56669890e-01]\n",
      "  [-1.56669890e-01 -1.21854359e-01 -8.70388280e-02 ...  8.70388280e-02\n",
      "    1.21854359e-01  1.56669890e-01]\n",
      "  [-1.56669890e-01 -1.21854359e-01 -8.70388280e-02 ...  8.70388280e-02\n",
      "    1.21854359e-01  1.56669890e-01]\n",
      "  ...\n",
      "  [-1.56669890e-01 -1.21854359e-01 -8.70388280e-02 ...  8.70388280e-02\n",
      "    1.21854359e-01  1.56669890e-01]\n",
      "  [-1.56669890e-01 -1.21854359e-01 -8.70388280e-02 ...  8.70388280e-02\n",
      "    1.21854359e-01  1.56669890e-01]\n",
      "  [-1.56669890e-01 -1.21854359e-01 -8.70388280e-02 ...  8.70388280e-02\n",
      "    1.21854359e-01  1.56669890e-01]]\n",
      "\n",
      " [[-8.56180747e-02 -9.67006472e-02 -7.69429128e-02 ... -1.03718732e-01\n",
      "   -9.58904940e-02 -9.79550063e-02]\n",
      "  [-8.85753066e-02 -9.70708119e-02 -7.90330873e-02 ... -1.06233741e-01\n",
      "   -9.23291160e-02 -9.91722397e-02]\n",
      "  [-8.51610485e-02 -9.61597146e-02 -7.56613353e-02 ... -1.04306882e-01\n",
      "   -9.48953311e-02 -9.94786649e-02]\n",
      "  ...\n",
      "  [-9.51866629e-02 -9.72477567e-02 -8.41084554e-02 ... -1.16831835e-01\n",
      "   -1.03730296e-01 -1.08069276e-01]\n",
      "  [-9.20192501e-02 -9.45700098e-02 -8.14911530e-02 ... -1.08919194e-01\n",
      "   -1.04933588e-01 -1.10251790e-01]\n",
      "  [-9.24428613e-02 -9.64027623e-02 -8.48817722e-02 ... -1.17634404e-01\n",
      "   -1.02476960e-01 -1.08273418e-01]]\n",
      "\n",
      " ...\n",
      "\n",
      " [[ 7.47039587e-06  8.43737865e-06  6.71346582e-06 ...  9.04972450e-06\n",
      "    8.36669071e-06  8.54682468e-06]\n",
      "  [ 7.72842191e-06  8.46967646e-06  6.89583888e-06 ...  9.26916549e-06\n",
      "    8.05595138e-06  8.65303141e-06]\n",
      "  [ 7.43051916e-06  8.39018090e-06  6.60164490e-06 ...  9.10104207e-06\n",
      "    8.27986020e-06  8.67976779e-06]\n",
      "  ...\n",
      "  [ 8.30527965e-06  8.48511535e-06  7.33867772e-06 ...  1.01938763e-05\n",
      "    9.05073347e-06  9.42932060e-06]\n",
      "  [ 8.02891478e-06  8.25147509e-06  7.11031140e-06 ...  9.50347813e-06\n",
      "    9.15572376e-06  9.61975049e-06]\n",
      "  [ 8.06587595e-06  8.41138743e-06  7.40615159e-06 ...  1.02639024e-05\n",
      "    8.94137666e-06  9.44713250e-06]]\n",
      "\n",
      " [[ 3.17854822e-06  3.58998578e-06  2.85648515e-06 ...  3.85053032e-06\n",
      "    3.55990906e-06  3.63655353e-06]\n",
      "  [ 3.28833467e-06  3.60372804e-06  2.93408232e-06 ...  3.94389936e-06\n",
      "    3.42769385e-06  3.68174299e-06]\n",
      "  [ 3.16158125e-06  3.56990380e-06  2.80890693e-06 ...  3.87236522e-06\n",
      "    3.52296390e-06  3.69311895e-06]\n",
      "  ...\n",
      "  [ 3.53377952e-06  3.61029707e-06  3.12250401e-06 ...  4.33735078e-06\n",
      "    3.85095962e-06  4.01204311e-06]\n",
      "  [ 3.41619016e-06  3.51088643e-06  3.02533736e-06 ...  4.04359609e-06\n",
      "    3.89563151e-06  4.09306835e-06]\n",
      "  [ 3.43191661e-06  3.57892688e-06  3.15121319e-06 ...  4.36714593e-06\n",
      "    3.80442984e-06  4.01962182e-06]]\n",
      "\n",
      " [[-1.44357826e-06 -1.63043788e-06 -1.29730921e-06 ... -1.74876751e-06\n",
      "   -1.61677816e-06 -1.65158722e-06]\n",
      "  [-1.49343918e-06 -1.63667911e-06 -1.33255095e-06 ... -1.79117226e-06\n",
      "   -1.55673093e-06 -1.67211059e-06]\n",
      "  [-1.43587250e-06 -1.62131740e-06 -1.27570095e-06 ... -1.75868411e-06\n",
      "   -1.59999904e-06 -1.67727713e-06]\n",
      "  ...\n",
      "  [-1.60491109e-06 -1.63966252e-06 -1.41812507e-06 ... -1.96986324e-06\n",
      "   -1.74896249e-06 -1.82212061e-06]\n",
      "  [-1.55150638e-06 -1.59451390e-06 -1.37399559e-06 ... -1.83645080e-06\n",
      "   -1.76925079e-06 -1.85891925e-06]\n",
      "  [-1.55864875e-06 -1.62541534e-06 -1.43116371e-06 ... -1.98339509e-06\n",
      "   -1.72783039e-06 -1.82556258e-06]]]\n"
     ]
    }
   ],
   "source": [
    "w_arr = toy.get_w_arr()\n",
    "print(w_arr.shape)\n",
    "print(w_arr)"
   ]
  },
  {
   "cell_type": "code",
   "execution_count": 17,
   "metadata": {},
   "outputs": [
    {
     "data": {
      "text/plain": [
       "{'w_0': <scipy.interpolate.interpolate.interp2d at 0x7f86312618b0>,\n",
       " 'w_1': <scipy.interpolate.interpolate.interp2d at 0x7f86312615e0>,\n",
       " 'w_2': <scipy.interpolate.interpolate.interp2d at 0x7f8631261580>,\n",
       " 'w_3': <scipy.interpolate.interpolate.interp2d at 0x7f8631261790>,\n",
       " 'w_4': <scipy.interpolate.interpolate.interp2d at 0x7f86312611c0>,\n",
       " 'w_5': <scipy.interpolate.interpolate.interp2d at 0x7f8631261e20>,\n",
       " 'w_6': <scipy.interpolate.interpolate.interp2d at 0x7f8631261e50>,\n",
       " 'w_7': <scipy.interpolate.interpolate.interp2d at 0x7f8631261340>,\n",
       " 'w_8': <scipy.interpolate.interpolate.interp2d at 0x7f8631261250>,\n",
       " 'w_9': <scipy.interpolate.interpolate.interp2d at 0x7f8631261070>,\n",
       " 'w_10': <scipy.interpolate.interpolate.interp2d at 0x7f8631261a90>}"
      ]
     },
     "execution_count": 17,
     "metadata": {},
     "output_type": "execute_result"
    }
   ],
   "source": [
    "toy.get_w_emulator()"
   ]
  },
  {
   "cell_type": "code",
   "execution_count": 24,
   "metadata": {},
   "outputs": [],
   "source": [
    "k_arr, emulated = toy.get_emulated_f(0.27,0.67 )\n",
    "theory = toy.get_theory(0.27, 0.67)"
   ]
  },
  {
   "cell_type": "code",
   "execution_count": 25,
   "metadata": {},
   "outputs": [
    {
     "data": {
      "text/plain": [
       "10"
      ]
     },
     "execution_count": 25,
     "metadata": {},
     "output_type": "execute_result"
    }
   ],
   "source": [
    "len(emulated)"
   ]
  },
  {
   "cell_type": "code",
   "execution_count": 26,
   "metadata": {},
   "outputs": [
    {
     "data": {
      "text/plain": [
       "array([-6.08, -3.08, -0.08,  2.92,  5.92,  8.92, 11.92, 14.92, 17.92,\n",
       "       20.92])"
      ]
     },
     "execution_count": 26,
     "metadata": {},
     "output_type": "execute_result"
    }
   ],
   "source": [
    "theory"
   ]
  },
  {
   "cell_type": "code",
   "execution_count": 27,
   "metadata": {},
   "outputs": [
    {
     "data": {
      "image/png": "[encoded data removed]",
      "text/plain": [
       "<Figure size 432x288 with 1 Axes>"
      ]
     },
     "metadata": {
      "needs_background": "light"
     },
     "output_type": "display_data"
    }
   ],
   "source": [
    "plt.plot( k_arr, evecs[0] , 'g-', label = 'evec 1' )\n",
    "plt.plot( k_arr, evecs[1] , 'r-', label = 'evec 2' )\n",
    "plt.plot( k_arr, evecs[2] , 'b-', label = 'evec 3' )\n",
    "plt.plot( k_arr, evecs[3] , 'y-', label = 'evec 4' )\n",
    "plt.xlabel('$k$',fontsize=18)\n",
    "plt.ylabel('f(k)',fontsize=18)\n",
    "plt.xticks(fontsize=14)\n",
    "plt.yticks(fontsize=14)\n",
    "plt.legend(loc=\"upper left\")\n",
    "plt.show()"
   ]
  },
  {
   "cell_type": "code",
   "execution_count": 28,
   "metadata": {},
   "outputs": [
    {
     "data": {
      "image/png": "[encoded data removed]",
      "text/plain": [
       "<Figure size 432x288 with 1 Axes>"
      ]
     },
     "metadata": {
      "needs_background": "light"
     },
     "output_type": "display_data"
    }
   ],
   "source": [
    "plt.plot( k_arr, toy.grid_mean*np.ones(len(k_arr)) , 'r-', label = 'Mean' )\n",
    "plt.plot( k_arr, toy.grid[0] , 'b--' )\n",
    "plt.plot( k_arr, toy.grid[20] , 'b--' )\n",
    "plt.plot( k_arr, toy.grid[-20] , 'b--' )\n",
    "plt.plot( k_arr, toy.grid[-1] , 'b--' )\n",
    "plt.xlabel('$k$',fontsize=18)\n",
    "plt.ylabel('f(k)',fontsize=18)\n",
    "plt.xticks(fontsize=14)\n",
    "plt.yticks(fontsize=14)\n",
    "plt.legend(loc=\"upper left\")\n",
    "plt.show()"
   ]
  },
  {
   "cell_type": "code",
   "execution_count": 29,
   "metadata": {},
   "outputs": [
    {
     "data": {
      "image/png": "[encoded data removed]",
      "text/plain": [
       "<Figure size 432x288 with 1 Axes>"
      ]
     },
     "metadata": {
      "needs_background": "light"
     },
     "output_type": "display_data"
    }
   ],
   "source": [
    "plt.plot(k_arr, theory , 'g-', label = 'Toy model' )\n",
    "plt.plot(k_arr, emulated , 'b-', label = 'Emulated' )\n",
    "plt.xlabel('$k$',fontsize=18)\n",
    "plt.ylabel('f(k)',fontsize=18)\n",
    "plt.xticks(fontsize=14)\n",
    "plt.yticks(fontsize=14)\n",
    "plt.legend(loc=\"upper left\")\n",
    "plt.show()"
   ]
  },
  {
   "cell_type": "code",
   "execution_count": null,
   "metadata": {},
   "outputs": [],
   "source": []
  },
  {
   "cell_type": "code",
   "execution_count": null,
   "metadata": {},
   "outputs": [],
   "source": []
  }
 ],
 "metadata": {
  "kernelspec": {
   "display_name": "Python 3",
   "language": "python",
   "name": "python3"
  },
  "language_info": {
   "codemirror_mode": {
    "name": "ipython",
    "version": 3
   },
   "file_extension": ".py",
   "mimetype": "text/x-python",
   "name": "python",
   "nbconvert_exporter": "python",
   "pygments_lexer": "ipython3",
   "version": "3.8.5"
  }
 },
 "nbformat": 4,
 "nbformat_minor": 4
}
